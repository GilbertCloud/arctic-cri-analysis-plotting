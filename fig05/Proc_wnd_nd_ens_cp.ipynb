{
 "cells": [
  {
   "cell_type": "markdown",
   "id": "7898c3d8-314b-4805-a0d0-abb090d44be7",
   "metadata": {},
   "source": [
    "# Processing Wind nudging data"
   ]
  },
  {
   "cell_type": "markdown",
   "id": "3f68c3c0-3181-4314-882c-e02836b90956",
   "metadata": {},
   "source": [
    "### Set up\n",
    "#### Packages"
   ]
  },
  {
   "cell_type": "code",
   "execution_count": null,
   "id": "d8e905c4-310b-40bf-8cea-2c860076ce2f",
   "metadata": {},
   "outputs": [],
   "source": [
    "import numpy as np\n",
    "import xarray as xr\n",
    "import pandas as pd\n",
    "from scipy import stats\n",
    "import warnings\n",
    "warnings.simplefilter('ignore', UserWarning)\n",
    "warnings.filterwarnings('ignore')\n",
    "import datetime as dt\n",
    "from datetime import timedelta\n",
    "from cartopy.util import add_cyclic_point\n",
    "from Processing_functions import FixLongitude, FixTime, CalcStatforDim, CalcStatbyGrpDim, Ensemble, FixGrid\n",
    "import pop_tools"
   ]
  },
  {
   "cell_type": "markdown",
   "id": "37e853ab-d028-4048-8c23-6a2fee2d3adc",
   "metadata": {},
   "source": [
    "#### Filepaths & name variables"
   ]
  },
  {
   "cell_type": "code",
   "execution_count": 2,
   "id": "d55160ee-91d6-4c88-9fe1-bbdc83d69af0",
   "metadata": {},
   "outputs": [],
   "source": [
    "## Test numbers\n",
    "tst_nums = np.arange(1,11)\n",
    "tst_type = 'nudge_ensemble'\n",
    "\n",
    "## Test names\n",
    "control = 'b.e22.B1850.f09_g17.control_test_nudge.'\n",
    "rfn263K = 'b.e22.B1850.f09_g17.cri263K_test_nudge.'\n",
    "\n",
    "## Time averaging type\n",
    "time_avg = 3 # 0: Monthly, 1: Yearly, 2: Seasonal, 3: All data\n",
    "\n",
    "## Ensemble mean or All members\n",
    "ens_type = 'Mean'\n",
    "\n",
    "## Filtering\n",
    "filter = False\n",
    "filter_str = 'filtered' if filter else 'non_filtered'\n",
    "\n",
    "## Offset\n",
    "offset = False\n",
    "\n",
    "## Filepaths\n",
    "path_to_arch = \"/glade/derecho/scratch/glydia/archive/\"\n",
    "path_to_data = \"/atm/hist/\"\n",
    "filename_ext = \".cam.h1\"\n",
    "# path_to_data = \"/ice/hist/\"\n",
    "# filename_ext = \".cice.h\"\n",
    "path_to_outdata = '/glade/work/glydia/Arctic_CRI_processed_data/processed_wind_nudging_coupled_ensemble_data/'\n",
    "\n",
    "## Variables to process\n",
    "var_list = np.array(['FLDS','FLUT','T','TS','CLOUD','TGCLDLWP','LCC','U','V','Target_U','Target_V','Target_T'])\n",
    "var = var_list[0]"
   ]
  },
  {
   "cell_type": "code",
   "execution_count": 3,
   "id": "357a01ca-fff7-423d-a6c3-383192b88088",
   "metadata": {},
   "outputs": [],
   "source": [
    "## Chunking variables\n",
    "la_chunk = 64\n",
    "lo_chunk = 96\n",
    "le_chunk = 4"
   ]
  },
  {
   "cell_type": "code",
   "execution_count": 4,
   "id": "3d4ae0bc-370a-4731-abe9-929e3a9f070e",
   "metadata": {},
   "outputs": [
    {
     "name": "stdout",
     "output_type": "stream",
     "text": [
      "CPU times: user 4 µs, sys: 0 ns, total: 4 µs\n",
      "Wall time: 8.11 µs\n"
     ]
    }
   ],
   "source": [
    "%%time\n",
    "## Select plot type - yearly or monthly - to make and assign variables accordingly\n",
    "# Monthly\n",
    "if time_avg == 0:\n",
    "    time_str = 'Month'\n",
    "    grp_str = \"time.month\"\n",
    "    tm_chunk = 30\n",
    "    concat_str = 'month'\n",
    "\n",
    "# Seasonal\n",
    "elif time_avg == 2:\n",
    "    time_str = 'Season'\n",
    "    grp_str = \"time.season\"\n",
    "    tm_chunk = 30\n",
    "    concat_str = 'season'\n",
    "\n",
    "# All-data average\n",
    "elif time_avg == 3:\n",
    "    time_str = 'All_data'\n",
    "    tm_chunk = -1\n",
    "    grp_str = ''"
   ]
  },
  {
   "cell_type": "code",
   "execution_count": 5,
   "id": "1c3944ba",
   "metadata": {},
   "outputs": [
    {
     "name": "stdout",
     "output_type": "stream",
     "text": [
      "CPU times: user 0 ns, sys: 121 µs, total: 121 µs\n",
      "Wall time: 125 µs\n"
     ]
    }
   ],
   "source": [
    "%%time\n",
    "\n",
    "## Set up ensemble index\n",
    "ens_index = pd.Index(tst_nums, name=\"ensemble_member\")"
   ]
  },
  {
   "cell_type": "code",
   "execution_count": 6,
   "id": "2e8c3e74",
   "metadata": {},
   "outputs": [],
   "source": [
    "def LCC(ds):\n",
    "    # Add LCC\n",
    "    ds_lwp = ds['TGCLDLWP']\n",
    "\n",
    "    da = xr.where(ds_lwp >= 0.005, 1, 0)\n",
    "    da = da.rename('LCC')\n",
    "    da.LCC.attrs['units'] = 'frequency'\n",
    "    da.LCC.attrs['long_name'] = 'Liquid-containing cloud frequency'\n",
    "\n",
    "    da.compute()\n",
    "    return da"
   ]
  },
  {
   "cell_type": "code",
   "execution_count": 7,
   "id": "de28095c",
   "metadata": {},
   "outputs": [],
   "source": [
    "def LWP(ds):\n",
    "    # Change units on LWP\n",
    "    da = ds['TGCLDLWP']\n",
    "    da *= 1000\n",
    "    da.TGCLDLWP.attrs['units'] = 'g/m2'\n",
    "\n",
    "    da.compute()\n",
    "    return da"
   ]
  },
  {
   "cell_type": "code",
   "execution_count": 8,
   "id": "d974dbc5",
   "metadata": {},
   "outputs": [],
   "source": [
    "def filter_func(ds, da):\n",
    "    ds_ts = ds.TS\n",
    "    ds_lwp = ds.TGCLDLWP\n",
    "\n",
    "    da = da.where(ds_ts <= 273)\n",
    "    da = da.where(ds_lwp <= 0.09)\n",
    "    da = da.where(ds_lwp >= 0.001)\n",
    "    da.compute()\n",
    "    return da"
   ]
  },
  {
   "cell_type": "code",
   "execution_count": null,
   "id": "022dd6bf",
   "metadata": {},
   "outputs": [],
   "source": [
    "def LoadModEns(optics):\n",
    "    ## Load data\n",
    "    # Load ensemble members\n",
    "    ds_list = []\n",
    "    \n",
    "    for i in tst_nums:\n",
    "        print('ensemble member: '+str(i))\n",
    "        \n",
    "        # Open dataset\n",
    "        tst_name = optics+str(i).zfill(3)\n",
    "        path_i = path_to_arch+tst_name+path_to_data+tst_name+filename_ext+\"*.nc\"\n",
    "        ds = xr.open_mfdataset(paths=path_i,chunks={'time':tm_chunk,'lat':la_chunk,'lon':lo_chunk,'lev':le_chunk})\n",
    "    \n",
    "        if var == 'LCC':\n",
    "            # Add LCC\n",
    "            dsv = LCC(ds)\n",
    "    \n",
    "        elif var == 'TGCLDLWP':\n",
    "            # Change units on LWP\n",
    "            dsv = LWP(ds)\n",
    "    \n",
    "        else:\n",
    "            dsv = ds[var]\n",
    "\n",
    "        dsv.compute()\n",
    "    \n",
    "        if filter:\n",
    "            dsv = filter_func(ds, dsv)\n",
    "            \n",
    "        dsv = dsv.compute()\n",
    "\n",
    "        if var == 'aice' or var == 'hi':\n",
    "            dsv = FixTime(dsv)\n",
    "\n",
    "            dsv.compute()\n",
    "\n",
    "            dsv = FixGrid(dsv, 'gx1v7')\n",
    "\n",
    "            dsv.compute()\n",
    "        else:\n",
    "            \n",
    "            dsv = FixLongitude(dsv)\n",
    "\n",
    "        if offset:\n",
    "            dsv = dsv.loc[dict(time=slice('0001-04-01','0002-03-31'))]\n",
    "        else:\n",
    "            dsv = dsv.loc[dict(time=slice('0001-01-01','0001-12-31'))]\n",
    "    \n",
    "        print('   made changes to ds')\n",
    "    \n",
    "        dsv.compute()\n",
    "\n",
    "        ds_list.append(dsv)\n",
    "\n",
    "    dsv = xr.concat(ds_list,ens_index)\n",
    "    dsv.compute()\n",
    "\n",
    "    # If doing ensembl mean\n",
    "    if ens_type == 'Mean':\n",
    "        ds_avg, ds_std, n_ds = CalcStatbyGrpDim(dsv, 'ensemble_member', grp_str, 'ensemble_member', 'time', 'ensemble_member')\n",
    "\n",
    "        return ds_avg, ds_std, n_ds\n",
    "\n",
    "    # If doing all ensemble members\n",
    "    else:\n",
    "        ds_avg, ds_std, n_ds = CalcStatforDim(dsv, grp_str, 'time') \n",
    "\n",
    "    return ds_avg, ds_std, n_ds"
   ]
  },
  {
   "cell_type": "code",
   "execution_count": 10,
   "id": "cadea2bd",
   "metadata": {},
   "outputs": [],
   "source": [
    "def SaveEns(data_avg, data_std, data_n, optics):\n",
    "    # Compute changes to avg\n",
    "    data_avg.compute()\n",
    "    print('computed avg')\n",
    "    \n",
    "    data_avg.to_netcdf(path_to_outdata+optics+var+'.avg.'+ens_type+'.'+time_str+'.'+filter_str+'.nc', format='NETCDF4')\n",
    "    \n",
    "    # Compute changes to avg\n",
    "    data_std.compute()\n",
    "    print('computed std')\n",
    "    \n",
    "    data_std.to_netcdf(path_to_outdata+optics+var+'.std.'+ens_type+'.'+time_str+'.'+filter_str+'.nc', format='NETCDF4')\n",
    "    \n",
    "    # Compute changes to avg\n",
    "    data_n.compute()\n",
    "    print('computed n')\n",
    "    \n",
    "    data_n.to_netcdf(path_to_outdata+optics+var+'.n.'+ens_type+'.'+time_str+'.'+filter_str+'.nc', format='NETCDF4')"
   ]
  },
  {
   "cell_type": "markdown",
   "id": "5fe8665d-7899-4c2c-ade2-6ba4119017e8",
   "metadata": {},
   "source": [
    "### Load & modify data\n",
    "#### Control data"
   ]
  },
  {
   "cell_type": "code",
   "execution_count": 11,
   "id": "9fa2967f-4b79-438f-a07c-c3bbfa6e4a3a",
   "metadata": {},
   "outputs": [
    {
     "name": "stdout",
     "output_type": "stream",
     "text": [
      "ensemble member: 1\n",
      "   made changes to ds\n",
      "ensemble member: 2\n",
      "   made changes to ds\n",
      "ensemble member: 3\n",
      "   made changes to ds\n",
      "ensemble member: 4\n",
      "   made changes to ds\n",
      "ensemble member: 5\n",
      "   made changes to ds\n",
      "ensemble member: 6\n",
      "   made changes to ds\n",
      "ensemble member: 7\n",
      "   made changes to ds\n",
      "ensemble member: 8\n",
      "   made changes to ds\n",
      "ensemble member: 9\n",
      "   made changes to ds\n",
      "ensemble member: 10\n",
      "   made changes to ds\n",
      "processed all ensemble members\n",
      "CPU times: user 11.3 s, sys: 14 s, total: 25.3 s\n",
      "Wall time: 1min 39s\n"
     ]
    }
   ],
   "source": [
    "%%time\n",
    "\n",
    "ds_avg_control, ds_std_control, ds_n_control = LoadModEns(control)\n",
    "\n",
    "print('processed all ensemble members')"
   ]
  },
  {
   "cell_type": "code",
   "execution_count": 12,
   "id": "c22d4e0c-4887-4bf4-97fb-978f1117c4d8",
   "metadata": {},
   "outputs": [
    {
     "name": "stdout",
     "output_type": "stream",
     "text": [
      "computed avg\n",
      "computed std\n",
      "computed n\n",
      "CPU times: user 12 ms, sys: 0 ns, total: 12 ms\n",
      "Wall time: 41.8 ms\n"
     ]
    }
   ],
   "source": [
    "%%time\n",
    "\n",
    "SaveEns(ds_avg_control, ds_std_control, ds_n_control, control)"
   ]
  },
  {
   "cell_type": "markdown",
   "id": "5afaadb5-4f10-49b3-9f50-98f16322e402",
   "metadata": {},
   "source": [
    "#### CRI263K data"
   ]
  },
  {
   "cell_type": "code",
   "execution_count": 13,
   "id": "d8f079ec-a8fe-40b7-b0fa-525ff08b8953",
   "metadata": {},
   "outputs": [
    {
     "name": "stdout",
     "output_type": "stream",
     "text": [
      "ensemble member: 1\n",
      "   made changes to ds\n",
      "ensemble member: 2\n",
      "   made changes to ds\n",
      "ensemble member: 3\n",
      "   made changes to ds\n",
      "ensemble member: 4\n",
      "   made changes to ds\n",
      "ensemble member: 5\n",
      "   made changes to ds\n",
      "ensemble member: 6\n",
      "   made changes to ds\n",
      "ensemble member: 7\n",
      "   made changes to ds\n",
      "ensemble member: 8\n",
      "   made changes to ds\n",
      "ensemble member: 9\n",
      "   made changes to ds\n",
      "ensemble member: 10\n",
      "   made changes to ds\n",
      "processed all ensemble members\n",
      "CPU times: user 10.2 s, sys: 15.6 s, total: 25.8 s\n",
      "Wall time: 1min 41s\n"
     ]
    }
   ],
   "source": [
    "%%time\n",
    "\n",
    "ds_avg_cri263K, ds_std_cri263K, ds_n_cri263K = LoadModEns(rfn263K)\n",
    "\n",
    "print('processed all ensemble members')"
   ]
  },
  {
   "cell_type": "code",
   "execution_count": 14,
   "id": "30ec0597-04a4-4de8-8579-b2e249d0ff08",
   "metadata": {},
   "outputs": [
    {
     "name": "stdout",
     "output_type": "stream",
     "text": [
      "computed avg\n",
      "computed std\n",
      "computed n\n",
      "CPU times: user 10.9 ms, sys: 0 ns, total: 10.9 ms\n",
      "Wall time: 121 ms\n"
     ]
    }
   ],
   "source": [
    "%%time\n",
    "\n",
    "SaveEns(ds_avg_cri263K, ds_std_cri263K, ds_n_cri263K, rfn263K)"
   ]
  },
  {
   "cell_type": "code",
   "execution_count": null,
   "id": "4f2ae8fd-39f8-4b9a-ab48-4c72477ba6f2",
   "metadata": {},
   "outputs": [],
   "source": []
  }
 ],
 "metadata": {
  "kernelspec": {
   "display_name": "Python [conda env:cenv]",
   "language": "python",
   "name": "conda-env-cenv-py"
  },
  "language_info": {
   "codemirror_mode": {
    "name": "ipython",
    "version": 3
   },
   "file_extension": ".py",
   "mimetype": "text/x-python",
   "name": "python",
   "nbconvert_exporter": "python",
   "pygments_lexer": "ipython3",
   "version": "3.12.2"
  }
 },
 "nbformat": 4,
 "nbformat_minor": 5
}
