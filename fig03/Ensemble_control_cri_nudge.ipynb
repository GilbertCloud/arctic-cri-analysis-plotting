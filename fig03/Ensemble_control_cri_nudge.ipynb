{
 "cells": [
  {
   "cell_type": "markdown",
   "metadata": {},
   "source": [
    "# Plotting script for e22.F1850.f09_f09_mg17 Control, CRI 240K, CRI 263K, and CRI 273K CESM Ensemble nudging runs\n",
    "### Set up\n",
    "#### Packages"
   ]
  },
  {
   "cell_type": "code",
   "execution_count": 43,
   "metadata": {},
   "outputs": [],
   "source": [
    "import numpy as np\n",
    "import xarray as xr\n",
    "import matplotlib.pyplot as plt\n",
    "from matplotlib.ticker import ScalarFormatter\n",
    "import pandas as pd\n",
    "from scipy import stats\n",
    "import matplotlib as mpl\n",
    "from matplotlib import font_manager\n",
    "from mpl_toolkits.axes_grid1.inset_locator import inset_axes\n",
    "from matplotlib.mathtext import _mathtext as mathtext\n",
    "import matplotlib.ticker as mticker\n",
    "from matplotlib import gridspec\n",
    "import matplotlib.path as mpath\n",
    "import matplotlib.colors as colors\n",
    "import matplotlib.dates as mdates\n",
    "import cartopy\n",
    "import cartopy.crs as ccrs\n",
    "import cartopy.feature as cfeature\n",
    "from cartopy.mpl.gridliner import LONGITUDE_FORMATTER, LATITUDE_FORMATTER\n",
    "import warnings\n",
    "warnings.simplefilter('ignore', UserWarning)\n",
    "warnings.filterwarnings('ignore')\n",
    "import datetime as dt\n",
    "from datetime import timedelta\n",
    "from cmcrameri import cm\n",
    "import jinja2\n",
    "from Plotting_functions import wvl2wvn, wvn2wvl, p2z, z2p, t_test_two_means, Wilks_pcrit, CustomCmap, draw_circle, CalcStatSig"
   ]
  },
  {
   "cell_type": "code",
   "execution_count": 44,
   "metadata": {},
   "outputs": [],
   "source": [
    "font_path = '/glade/work/glydia/conda-envs/cenv/fonts/Helvetica.ttc'  # Your font path goes here\n",
    "font_manager.fontManager.addfont(font_path)\n",
    "prop = font_manager.FontProperties(fname=font_path)\n",
    "\n",
    "mpl.rcParams['font.family'] = 'sans-serif'\n",
    "mpl.rcParams['font.sans-serif'] = 'Helvetica'"
   ]
  },
  {
   "cell_type": "markdown",
   "metadata": {},
   "source": [
    "#### Filepaths, name variables"
   ]
  },
  {
   "cell_type": "code",
   "execution_count": null,
   "metadata": {},
   "outputs": [],
   "source": [
    "## Test numbers\n",
    "tst_nums = np.arange(1,11)\n",
    "tst_type = 'nudge_ensemble'\n",
    "\n",
    "## Test names\n",
    "control = 'f.e22.F1850.f09_f09_mg17.control_test_nudge.'\n",
    "cri240K = 'f.e22.F1850.f09_f09_mg17.cri240K_test_nudge.'\n",
    "cri263K = 'f.e22.F1850.f09_f09_mg17.cri263K_test_nudge.'\n",
    "cri273K = 'f.e22.F1850.f09_f09_mg17.cri273K_test_nudge.'\n",
    "\n",
    "## Significance type\n",
    "sig = 'Wilks'\n",
    "\n",
    "## Time averaging type\n",
    "time_avg = 3    # 0: Monthly, 1: Yearly, 2: Seasonal, 3: All data\n",
    "\n",
    "## Ensemble mean or All members\n",
    "ens_type = 'Mean'\n",
    "\n",
    "## Filtering\n",
    "filter = False\n",
    "filter_str = 'filtered' if filter else 'non_filtered'\n",
    "\n",
    "## Filepaths\n",
    "path_to_data = '/glade/work/glydia/Arctic_CRI_processed_data/processed_wind_nudging_ensemble_data/'\n",
    "path_to_graphs = '/glade/u/home/glydia/wind_nudging_ensemble_graphs/'+filter_str+'/'\n",
    "\n",
    "## Variables to process\n",
    "var_list = np.array(['FLDS','FLUT','T','TS','TGCLDLWP','LCC','U','V','Target_U','Target_V'])\n",
    "var = var_list[3]\n",
    "\n",
    "## Plot types to make\n",
    "map_type = True"
   ]
  },
  {
   "cell_type": "code",
   "execution_count": 46,
   "metadata": {},
   "outputs": [],
   "source": [
    "## Chunking variables\n",
    "la_chunk = 64\n",
    "lo_chunk = 96\n",
    "le_chunk = 4"
   ]
  },
  {
   "cell_type": "code",
   "execution_count": 47,
   "metadata": {},
   "outputs": [
    {
     "name": "stdout",
     "output_type": "stream",
     "text": [
      "CPU times: user 3 µs, sys: 0 ns, total: 3 µs\n",
      "Wall time: 5.01 µs\n"
     ]
    }
   ],
   "source": [
    "%%time\n",
    "\n",
    "## Select plot type - yearly or monthly - to make and assign variables accordingly\n",
    "# Seasonal\n",
    "if time_avg == 2:\n",
    "    time_str = 'Season'\n",
    "\n",
    "# All-data average\n",
    "elif time_avg == 3:\n",
    "    time_str = 'All_data'\n",
    "    \n",
    "elif time_avg == 0:\n",
    "    time_str = 'Month'"
   ]
  },
  {
   "cell_type": "markdown",
   "metadata": {},
   "source": [
    "#### Load data"
   ]
  },
  {
   "cell_type": "code",
   "execution_count": 48,
   "metadata": {},
   "outputs": [
    {
     "name": "stdout",
     "output_type": "stream",
     "text": [
      "CPU times: user 10.5 ms, sys: 0 ns, total: 10.5 ms\n",
      "Wall time: 59.2 ms\n"
     ]
    }
   ],
   "source": [
    "%%time\n",
    "\n",
    "## Load data\n",
    "# Load control ensemble members\n",
    "control_data_avg = xr.open_dataset(path_to_data+control+var+'.avg.'+ens_type+'.'+time_str+'.'+filter_str+'.nc', \n",
    "                                   chunks={'lat':la_chunk,'lon':lo_chunk,'lev':le_chunk})\n",
    "control_data_std = xr.open_dataset(path_to_data+control+var+'.std.'+ens_type+'.'+time_str+'.'+filter_str+'.nc', \n",
    "                                   chunks={'lat':la_chunk,'lon':lo_chunk,'lev':le_chunk})\n",
    "n_control = xr.open_dataset(path_to_data+control+var+'.n.'+ens_type+'.'+time_str+'.'+filter_str+'.nc', \n",
    "                            chunks={'lat':la_chunk,'lon':lo_chunk,'lev':le_chunk})"
   ]
  },
  {
   "cell_type": "code",
   "execution_count": 49,
   "metadata": {},
   "outputs": [
    {
     "name": "stdout",
     "output_type": "stream",
     "text": [
      "CPU times: user 7.45 ms, sys: 3.29 ms, total: 10.7 ms\n",
      "Wall time: 75.7 ms\n"
     ]
    }
   ],
   "source": [
    "%%time\n",
    "\n",
    "# Load cri240K ensemble members\n",
    "cri240K_data_avg = xr.open_dataset(path_to_data+cri240K+var+'.avg.'+ens_type+'.'+time_str+'.'+filter_str+'.nc', \n",
    "                                   chunks={'lat':la_chunk,'lon':lo_chunk,'lev':le_chunk})\n",
    "cri240K_data_std = xr.open_dataset(path_to_data+cri240K+var+'.std.'+ens_type+'.'+time_str+'.'+filter_str+'.nc', \n",
    "                                   chunks={'lat':la_chunk,'lon':lo_chunk,'lev':le_chunk})\n",
    "n_cri240K = xr.open_dataset(path_to_data+cri240K+var+'.n.'+ens_type+'.'+time_str+'.'+filter_str+'.nc', \n",
    "                            chunks={'lat':la_chunk,'lon':lo_chunk,'lev':le_chunk})"
   ]
  },
  {
   "cell_type": "code",
   "execution_count": 50,
   "metadata": {},
   "outputs": [
    {
     "name": "stdout",
     "output_type": "stream",
     "text": [
      "CPU times: user 3.14 ms, sys: 7.68 ms, total: 10.8 ms\n",
      "Wall time: 80.8 ms\n"
     ]
    }
   ],
   "source": [
    "%%time\n",
    "\n",
    "# Load cri263K ensemble members\n",
    "cri263K_data_avg = xr.open_dataset(path_to_data+cri263K+var+'.avg.'+ens_type+'.'+time_str+'.'+filter_str+'.nc', \n",
    "                                   chunks={'lat':la_chunk,'lon':lo_chunk,'lev':le_chunk})\n",
    "cri263K_data_std = xr.open_dataset(path_to_data+cri263K+var+'.std.'+ens_type+'.'+time_str+'.'+filter_str+'.nc', \n",
    "                                   chunks={'lat':la_chunk,'lon':lo_chunk,'lev':le_chunk})\n",
    "n_cri263K = xr.open_dataset(path_to_data+cri263K+var+'.n.'+ens_type+'.'+time_str+'.'+filter_str+'.nc', \n",
    "                            chunks={'lat':la_chunk,'lon':lo_chunk,'lev':le_chunk})"
   ]
  },
  {
   "cell_type": "code",
   "execution_count": 51,
   "metadata": {},
   "outputs": [
    {
     "name": "stdout",
     "output_type": "stream",
     "text": [
      "CPU times: user 9.9 ms, sys: 240 µs, total: 10.1 ms\n",
      "Wall time: 69.3 ms\n"
     ]
    }
   ],
   "source": [
    "%%time\n",
    "\n",
    "# Load cri273K ensemble members\n",
    "cri273K_data_avg = xr.open_dataset(path_to_data+cri273K+var+'.avg.'+ens_type+'.'+time_str+'.'+filter_str+'.nc', \n",
    "                                   chunks={'lat':la_chunk,'lon':lo_chunk,'lev':le_chunk})\n",
    "cri273K_data_std = xr.open_dataset(path_to_data+cri273K+var+'.std.'+ens_type+'.'+time_str+'.'+filter_str+'.nc', \n",
    "                                   chunks={'lat':la_chunk,'lon':lo_chunk,'lev':le_chunk})\n",
    "n_cri273K = xr.open_dataset(path_to_data+cri273K+var+'.n.'+ens_type+'.'+time_str+'.'+filter_str+'.nc', \n",
    "                            chunks={'lat':la_chunk,'lon':lo_chunk,'lev':le_chunk})"
   ]
  },
  {
   "cell_type": "markdown",
   "metadata": {},
   "source": [
    "#### Define custom colobars"
   ]
  },
  {
   "cell_type": "code",
   "execution_count": 52,
   "metadata": {},
   "outputs": [],
   "source": [
    "# Difference colorbars\n",
    "tppr_levels = np.linspace(-3,3,21)\n",
    "tppr_levels[10] = -0.0000000001\n",
    "flux_levels = np.linspace(-10,10,21)\n",
    "lwp_levels = np.linspace(-75,75,21)\n",
    "iwp_levels = flux_levels\n",
    "lcc_levels = np.linspace(-.5,.5,21)\n",
    "wcf_levels = flux_levels\n",
    "wnd_levels = flux_levels\n",
    "\n",
    "vik_cmap = cm.vik\n",
    "\n",
    "# Create cmap and norms\n",
    "diff_cmap, tppr_norm = CustomCmap(tppr_levels,vik_cmap,[],False)\n",
    "_, flux_norm = CustomCmap(flux_levels,vik_cmap,[],False)\n",
    "_, lwp_norm = CustomCmap(lwp_levels,vik_cmap,[],False)\n",
    "_, iwp_norm = CustomCmap(iwp_levels,vik_cmap,[],False)\n",
    "_, lcc_norm = CustomCmap(lcc_levels,vik_cmap,[],False)\n",
    "_, wcf_norm = CustomCmap(wcf_levels,vik_cmap,[],False)\n",
    "_, wnd_norm = CustomCmap(wnd_levels,vik_cmap,[],False)"
   ]
  },
  {
   "cell_type": "markdown",
   "metadata": {},
   "source": [
    "### Spatial plots\n",
    "#### Set up"
   ]
  },
  {
   "cell_type": "code",
   "execution_count": null,
   "metadata": {},
   "outputs": [],
   "source": [
    "if map_type:    \n",
    "    graph_type_str = 'Map'# Linear or Map or Zonal\n",
    "    plot_type = time_avg # 0: Monthly, 2: Seasonal, 3: All years\n",
    "    num_yrs = 1\n",
    "\n",
    "    ## Select plot type - yearly or monthly - to make and assign variables accordingly\n",
    "    # Seasonal\n",
    "    if plot_type == 2:\n",
    "        avg_list = np.arange(4)\n",
    "        date_str = np.array(['DJF','JJA','MAM','SON'])\n",
    "        title_str = date_str\n",
    "\n",
    "    # All-data average\n",
    "    elif plot_type == 3:\n",
    "        avg_list = np.arange(1)\n",
    "        date_str = np.array(['all_yrs'])\n",
    "        title_str = np.array(['Ensemble mean for '+str(num_yrs)+' year average'])\n"
   ]
  },
  {
   "cell_type": "markdown",
   "metadata": {},
   "source": [
    "#### Define graphing variables"
   ]
  },
  {
   "cell_type": "code",
   "execution_count": null,
   "metadata": {},
   "outputs": [],
   "source": [
    "if map_type:     \n",
    "    # Graphing variables if graphing type is the ensemble mean\n",
    "    if ens_type == 'Mean':\n",
    "        sbpt_shp = (1,4)\n",
    "        figsz = (12,3)\n",
    "        proj = ccrs.NorthPolarStereo()\n",
    "        extent = [-180, 180, 50, 90]\n",
    "\n",
    "    # Graphing variables if graphing type is \n",
    "    elif ens_type == 'All_members':\n",
    "        sbpt_shp = (10,4)\n",
    "        figsz = (19,40)\n",
    "        proj = ccrs.NorthPolarStereo()\n",
    "        extent = [-180, 180, 50, 90]"
   ]
  },
  {
   "cell_type": "markdown",
   "metadata": {},
   "source": [
    "#### Calculate statistical signficance based on Wilks test"
   ]
  },
  {
   "cell_type": "code",
   "execution_count": 57,
   "metadata": {},
   "outputs": [
    {
     "name": "stdout",
     "output_type": "stream",
     "text": [
      "CPU times: user 185 ms, sys: 15.9 ms, total: 201 ms\n",
      "Wall time: 202 ms\n"
     ]
    }
   ],
   "source": [
    "%%time\n",
    "if map_type: \n",
    "    ## Calculate p-vals for t-test & Wilks field significance for all variables in varplot\n",
    "    cri240K_data_avg = CalcStatSig(control_data_avg, control_data_std, n_control, cri240K_data_avg, cri240K_data_std, n_cri240K, var, sig, ens_type, time_avg)\n",
    "    cri263K_data_avg = CalcStatSig(control_data_avg, control_data_std, n_control, cri263K_data_avg, cri263K_data_std, n_cri263K, var, sig, ens_type, time_avg)\n",
    "    cri273K_data_avg = CalcStatSig(control_data_avg, control_data_std, n_control, cri273K_data_avg, cri273K_data_std, n_cri273K, var, sig, ens_type, time_avg)"
   ]
  },
  {
   "cell_type": "code",
   "execution_count": 58,
   "metadata": {},
   "outputs": [
    {
     "name": "stdout",
     "output_type": "stream",
     "text": [
      "CPU times: user 8.94 ms, sys: 8.26 ms, total: 17.2 ms\n",
      "Wall time: 17.2 ms\n"
     ]
    }
   ],
   "source": [
    "%%time\n",
    "\n",
    "# load computations into dataset\n",
    "if map_type: \n",
    "    control_data_avg.compute()\n",
    "    cri240K_data_avg.compute()\n",
    "    cri263K_data_avg.compute()\n",
    "    cri273K_data_avg.compute()"
   ]
  },
  {
   "cell_type": "code",
   "execution_count": null,
   "metadata": {},
   "outputs": [],
   "source": [
    "if map_type:     \n",
    "    # Plotting pandas Dataframe for spatial plots\n",
    "    spdf = pd.DataFrame(data={'cmap':[cm.navia,plt.cm.jet,plt.cm.Blues,plt.cm.Blues,cm.lajolla_r,cm.lajolla_r,cm.lajolla_r,cm.lajolla_r,cm.roma_r,cm.roma_r,cm.navia,cm.navia],\n",
    "                               'norm': [lcc_norm,tppr_norm,lwp_norm,iwp_norm,flux_norm,flux_norm,flux_norm,flux_norm,wcf_norm,wcf_norm,tppr_norm,tppr_norm],\n",
    "                               'cnt_cbar_lb': ['LCC frequency','Surface temperature (K)','LWP (g/m$^{2}$)','IWP (g/m$^{2}$)','Downwelling longwave\\nflux at the surface (W m$^{-2}$)',\n",
    "                                               'F$_{\\downarrow}$ (SW, surface) (W/m$^{2}$)',r'F$_{\\uparrow}$ (LW, TOA) (W/m$^{2}$)',r'F$_{\\uparrow}$ (SW, TOA) (W/m$^{2}$)',\n",
    "                                               'LWCF (W/m$^{2}$)','SWCF (W/m$^{2}$)','Large-scale precipitation rate (mm/day)','Large-scale snow rate (mm/day)'],\n",
    "                               'diff_cbar_lb': ['LCC frequency difference','Temperature difference (K)','LWP difference (g/m$^{2}$)','IWP difference (g/m$^{2}$)','Flux difference (W m$^{-2}$)',\n",
    "                                                'Flux difference (W/m$^{2}$)','Flux difference (W/m$^{2}$)','Flux difference (W/m$^{2}$)','LWCF difference (W/m$^{2}$)','SWCF difference (W/m$^{2}$)',\n",
    "                                                'Precipitation rate difference (mm/day)','Snow rate difference (mm/day)'],\n",
    "                               'suptitle': ['Liquid-containing cloud frequency [LCC]','Surface temperature [TS]','Liquid water path [TGCLDLWP]','Ice water path [TGCLDIWP]',\n",
    "                                            'Downwelling longwave flux at the surface [FLDS]','Downwelling shortwave flux at the surface [FSDS]','Upwelling longwave flux at the TOA [FLUT]',\n",
    "                                            'Upwelling shortwave flux at the TOA [FSUTOA]','Longwave cloud forcing [LWCF]','Shortwave cloud forcing [SWCF]',\n",
    "                                            'Large-scale precipitation rate [PRECL]','Large-scale snow rate [PRECSL]']},\n",
    "                        index=['LCC','TS','TGCLDLWP','TGCLDIWP','FLDS','FSDS','FLUT','FSUTOA','LWCF','SWCF','PRECL','PRECSL'])\n"
   ]
  },
  {
   "cell_type": "code",
   "execution_count": 60,
   "metadata": {},
   "outputs": [
    {
     "name": "stdout",
     "output_type": "stream",
     "text": [
      "all_yrs\n",
      "max control-cri240K diff: 1.9599304\n",
      "min control-cri240K diff: -1.2567444\n",
      "max control-cri263K diff: 1.9154663\n",
      "min control-cri263K diff: -1.2088013\n",
      "max control-cri273K diff: 2.267517\n",
      "min control-cri273K diff: -1.2190247\n"
     ]
    }
   ],
   "source": [
    "if ens_type == 'Mean' and map_type:\n",
    "    ## Loop through all months/years\n",
    "    for j in avg_list:\n",
    "        if plot_type == 2:\n",
    "            index = dict(season=j)\n",
    "        elif plot_type >= 3:\n",
    "            index = dict()\n",
    "\n",
    "        print(date_str[j])\n",
    "        cri240K_diff = cri240K_data_avg[var][index]-control_data_avg[var][index]\n",
    "        cri263K_diff = cri263K_data_avg[var][index]-control_data_avg[var][index]\n",
    "        cri273K_diff = cri273K_data_avg[var][index]-control_data_avg[var][index]\n",
    "\n",
    "        print('max control-cri240K diff: '+str(cri240K_diff.loc[dict(lat=slice(50,90))].max().values))\n",
    "        print('min control-cri240K diff: '+str(cri240K_diff.loc[dict(lat=slice(50,90))].min().values))\n",
    "        print('max control-cri263K diff: '+str(cri263K_diff.loc[dict(lat=slice(50,90))].max().values))\n",
    "        print('min control-cri263K diff: '+str(cri263K_diff.loc[dict(lat=slice(50,90))].min().values))\n",
    "        print('max control-cri273K diff: '+str(cri273K_diff.loc[dict(lat=slice(50,90))].max().values))\n",
    "        print('min control-cri273K diff: '+str(cri273K_diff.loc[dict(lat=slice(50,90))].min().values))\n",
    "    "
   ]
  },
  {
   "cell_type": "code",
   "execution_count": 61,
   "metadata": {},
   "outputs": [],
   "source": [
    "if ens_type == 'Mean' and map_type:\n",
    "    slice_i = dict(lat=slice(60,90))\n",
    "    avg_dim = ('lat','lon')\n",
    "    weights = np.cos(np.deg2rad(cri240K_diff.lat.loc[slice_i]))\n",
    "    weights.compute()\n",
    "    \n",
    "    # Weight ensemble member data\n",
    "    cri240K_diff_w = cri240K_diff.loc[slice_i].weighted(weights)\n",
    "    cri263K_diff_w = cri263K_diff.loc[slice_i].weighted(weights)\n",
    "    cri273K_diff_w = cri273K_diff.loc[slice_i].weighted(weights)\n",
    "    \n",
    "    # Calculate weighted mean\n",
    "    cri240K_diff_avg_w = cri240K_diff_w.mean(avg_dim,skipna=True)\n",
    "    cri263K_diff_avg_w = cri263K_diff_w.mean(avg_dim,skipna=True)\n",
    "    cri273K_diff_avg_w = cri273K_diff_w.mean(avg_dim,skipna=True)"
   ]
  },
  {
   "cell_type": "markdown",
   "metadata": {},
   "source": [
    "#### Make plots\n",
    "##### Ensemble mean"
   ]
  },
  {
   "cell_type": "code",
   "execution_count": 62,
   "metadata": {},
   "outputs": [
    {
     "name": "stdout",
     "output_type": "stream",
     "text": [
      "CPU times: user 14.4 s, sys: 16.6 ms, total: 14.5 s\n",
      "Wall time: 16.4 s\n"
     ]
    }
   ],
   "source": [
    "%%time\n",
    "\n",
    "if ens_type == 'Mean' and map_type:\n",
    "    ## Loop through all months/years\n",
    "    for j in avg_list:\n",
    "        if plot_type == 2:\n",
    "            index = dict(season=j)\n",
    "        elif plot_type >= 3:\n",
    "            index = dict()\n",
    "\n",
    "\n",
    "        # Set up\n",
    "        fig, axlist = plt.subplots(sbpt_shp[0],sbpt_shp[1],layout='constrained',subplot_kw=dict(projection=proj))\n",
    "        fig.set_size_inches(figsz[0],figsz[1])\n",
    "\n",
    "        if sig == 'Wilks':\n",
    "            if plot_type >= 3:\n",
    "                pcriti_cri240K = cri240K_data_avg['pcrit_'+var][index].values[0][0]\n",
    "                pcriti_cri263K = cri263K_data_avg['pcrit_'+var][index].values[0][0]\n",
    "                pcriti_cri273K = cri273K_data_avg['pcrit_'+var][index].values[0][0]\n",
    "            else: \n",
    "                pcriti_cri240K = cri240K_data_avg['pcrit_'+var][index].values[0]\n",
    "                pcriti_cri263K = cri263K_data_avg['pcrit_'+var][index].values[0]\n",
    "                pcriti_cri273K = cri273K_data_avg['pcrit_'+var][index].values[0]\n",
    "\n",
    "        # Plot data\n",
    "        cax = control_data_avg[var][index].plot.contourf(\n",
    "            ax=axlist[0],cmap=spdf.loc[var]['cmap'],levels=20,\n",
    "            add_colorbar=False,transform=ccrs.PlateCarree(),zorder=1)\n",
    "        cax2 = (cri240K_data_avg[var][index]-control_data_avg[var][index]).plot.contourf(\n",
    "            ax=axlist[1],add_colorbar=False,cmap=diff_cmap,\n",
    "            norm=spdf.loc[var]['norm'],transform=ccrs.PlateCarree(),zorder=1)\n",
    "        (cri263K_data_avg[var][index]-control_data_avg[var][index]).plot.contourf(\n",
    "            ax=axlist[2],add_colorbar=False,cmap=diff_cmap,\n",
    "            norm=spdf.loc[var]['norm'],transform=ccrs.PlateCarree(),zorder=1)\n",
    "        (cri273K_data_avg[var][index]-control_data_avg[var][index]).plot.contourf(\n",
    "            ax=axlist[3],add_colorbar=False,cmap=diff_cmap,\n",
    "            norm=spdf.loc[var]['norm'],transform=ccrs.PlateCarree(),zorder=1)\n",
    "\n",
    "\n",
    "        cri240K_data_avg['pvals_'+var][index].plot.contourf(\n",
    "            ax=axlist[1],levels=[-0.01,pcriti_cri240K,1],hatches=['...',None],colors='none',\n",
    "            add_colorbar=False,transform=ccrs.PlateCarree(),zorder=2)\n",
    "        cri263K_data_avg['pvals_'+var][index].plot.contourf(\n",
    "            ax=axlist[2],levels=[-0.01,pcriti_cri263K,1],hatches=['...',None],colors='none',\n",
    "            add_colorbar=False,transform=ccrs.PlateCarree(),zorder=2)\n",
    "        cri273K_data_avg['pvals_'+var][index].plot.contourf(\n",
    "            ax=axlist[3],levels=[-0.01,pcriti_cri273K,1],hatches=['...',None],colors='none',\n",
    "            add_colorbar=False,transform=ccrs.PlateCarree(),zorder=2)\n",
    "\n",
    "        # Formatting\n",
    "        axlist[0].coastlines(zorder=3)\n",
    "        axlist[0].set_extent(extent, ccrs.PlateCarree())\n",
    "\n",
    "        draw_circle(axlist[0], draw_major=False, draw_major_labels=False)\n",
    "        axlist[0].set_title('(a) Control optics\\n', fontsize=14)\n",
    "        # gl0.xlabel_style = {'size':11}\n",
    "        # gl0.ylabel_style = {'size':11}\n",
    "\n",
    "        cb1 = fig.colorbar(cax,ax=axlist[0],pad=0.1,shrink=0.75,fraction=0.1)\n",
    "        cb1.set_label(label=spdf.loc[var]['cnt_cbar_lb'],fontsize=12)\n",
    "        cb1.ax.tick_params(labelsize=12)\n",
    "\n",
    "        axlist[1].coastlines(zorder=3)\n",
    "        axlist[1].set_extent(extent, ccrs.PlateCarree())\n",
    "        draw_circle(axlist[1], draw_major=False, draw_major_labels=False)\n",
    "        axlist[1].set_title('(b) 240 K-Control optics\\n({:.2f}'.format(cri240K_diff_avg_w.values)+' K)', fontsize=14)\n",
    "        # gl1.xlabel_style = {'size':11}\n",
    "        # gl1.ylabel_style = {'size':11}\n",
    "        \n",
    "        axlist[2].coastlines(zorder=3)\n",
    "        axlist[2].set_extent(extent, ccrs.PlateCarree())\n",
    "        gl2 = draw_circle(axlist[2], draw_major=False, draw_major_labels=False)\n",
    "        axlist[2].set_title('(c) 263 K-Control optics\\n({:.2f}'.format(cri263K_diff_avg_w.values)+' K)', fontsize=14)\n",
    "        # gl2.xlabel_style = {'size':11}\n",
    "        # gl2.ylabel_style = {'size':11}\n",
    "\n",
    "        axlist[3].coastlines(zorder=3)\n",
    "        axlist[3].set_extent(extent, ccrs.PlateCarree())\n",
    "        gl3 = draw_circle(axlist[3], draw_major=False, draw_major_labels=False)\n",
    "        axlist[3].set_title('(d) 273 K-Control optics\\n({:.2f}'.format(cri273K_diff_avg_w.values)+' K)', fontsize=14)\n",
    "        # gl3.xlabel_style = {'size':11}\n",
    "        # gl3.ylabel_style = {'size':11}\n",
    "\n",
    "        cb2 = fig.colorbar(cax2,ax=axlist[1:4],pad=0.033,extend='both',shrink=0.75,fraction=0.17)\n",
    "        cb2.set_label(label=spdf.loc[var]['diff_cbar_lb'],fontsize=12)\n",
    "        cb2.ax.tick_params(labelsize=12)\n",
    "\n",
    "        #fig.suptitle(spdf.loc[var]['suptitle']+' - '+title_str[j])\n",
    "\n",
    "        fig.savefig(path_to_graphs+var+'.'+ens_type+'.'+graph_type_str+'.'+date_str[j]+'.pdf',dpi=300,bbox_inches='tight')\n",
    "\n",
    "        plt.close(fig)\n",
    "        axlist[0].clear()\n",
    "        axlist[1].clear()\n",
    "        axlist[2].clear()\n",
    "        axlist[3].clear()"
   ]
  },
  {
   "cell_type": "markdown",
   "metadata": {},
   "source": [
    "##### All Ensemble members"
   ]
  },
  {
   "cell_type": "code",
   "execution_count": null,
   "metadata": {},
   "outputs": [],
   "source": [
    "%%time\n",
    "\n",
    "if ens_type == 'All_members'and map_type:\n",
    "    ## Loop through all months/years\n",
    "    for j in avg_list:\n",
    "        if plot_type == 2:\n",
    "            index = dict(season=j)\n",
    "        elif plot_type >= 3:\n",
    "            index = dict()\n",
    "\n",
    "\n",
    "\n",
    "        # Setup figure\n",
    "        fig = plt.figure()\n",
    "        fig.set_size_inches(figsz[0],figsz[1])\n",
    "\n",
    "        axlist = []\n",
    "        ens_num = 0\n",
    "        for k in np.arange(1,41,4):\n",
    "            # Set up axes\n",
    "            ax1 = fig.add_subplot(sbpt_shp[0],sbpt_shp[1],k,projection=proj)\n",
    "            ax2 = fig.add_subplot(sbpt_shp[0],sbpt_shp[1],k+1,projection=proj)\n",
    "            ax3 = fig.add_subplot(sbpt_shp[0],sbpt_shp[1],k+2,projection=proj)\n",
    "            ax4 = fig.add_subplot(sbpt_shp[0],sbpt_shp[1],k+3,projection=proj)\n",
    "\n",
    "            axlist.append([ax1,ax2,ax3,ax4])\n",
    "\n",
    "            # Modify index\n",
    "            index['ensemble_member'] = ens_num\n",
    "\n",
    "            if sig == 'Wilks':\n",
    "                if np.logical_and(plot_type == 3,ens_type == 'All_members'):\n",
    "                    pcriti_cri240K = cri240K_data_avg['pcrit_'+var][index].values[0]\n",
    "                    pcriti_cri263K = cri263K_data_avg['pcrit_'+var][index].values[0]\n",
    "                    pcriti_cri273K = cri273K_data_avg['pcrit_'+var][index].values[0]\n",
    "                else:\n",
    "                    pcriti_cri240K = cri240K_data_avg['pcrit_'+var][index].values\n",
    "                    pcriti_cri263K = cri263K_data_avg['pcrit_'+var][index].values\n",
    "                    pcriti_cri273K = cri273K_data_avg['pcrit_'+var][index].values\n",
    "\n",
    "            # Plot data\n",
    "            cax = control_data_avg[var][index].plot(\n",
    "                    ax=ax1,cmap=spdf.loc[var]['cmap'],add_labels=False,\n",
    "                    add_colorbar=False,transform=ccrs.PlateCarree(),zorder=1)\n",
    "            cax2 = (control_data_avg[var][index]-cri240K_data_avg[var][index]).plot.contourf(\n",
    "                ax=ax2,add_colorbar=False,cmap=diff_cmap,add_labels=False,\n",
    "                norm=spdf.loc[var]['norm'],transform=ccrs.PlateCarree(),zorder=1)\n",
    "            (control_data_avg[var][index]-cri263K_data_avg[var][index]).plot.contourf(\n",
    "                ax=ax3,add_colorbar=False,cmap=diff_cmap,add_labels=False,\n",
    "                norm=spdf.loc[var]['norm'],transform=ccrs.PlateCarree(),zorder=1)\n",
    "            (control_data_avg[var][index]-cri273K_data_avg[var][index]).plot.contourf(\n",
    "                ax=ax4,add_colorbar=False,cmap=diff_cmap,add_labels=False,\n",
    "                norm=spdf.loc[var]['norm'],transform=ccrs.PlateCarree(),zorder=1)\n",
    "\n",
    "\n",
    "            cri240K_data_avg['pvals_'+var][index].plot.contourf(\n",
    "                ax=ax2,levels=[-0.01,pcriti_cri240K,1],hatches=['\\\\\\\\',None],colors='none',\n",
    "                add_colorbar=False,transform=ccrs.PlateCarree(),add_labels=False,zorder=2)\n",
    "            cri263K_data_avg['pvals_'+var][index].plot.contourf(\n",
    "                ax=ax3,levels=[-0.01,pcriti_cri263K,1],hatches=['\\\\\\\\',None],colors='none',\n",
    "                add_colorbar=False,transform=ccrs.PlateCarree(),add_labels=False,zorder=2)\n",
    "            cri273K_data_avg['pvals_'+var][index].plot.contourf(\n",
    "                ax=ax4,levels=[-0.01,pcriti_cri273K,1],hatches=['\\\\\\\\',None],colors='none',\n",
    "                add_colorbar=False,transform=ccrs.PlateCarree(),add_labels=False,zorder=2)\n",
    "\n",
    "            # Formatting\n",
    "            ax1.coastlines(zorder=3)\n",
    "            ax1.set_extent(extent, ccrs.PlateCarree())\n",
    "            gl1 = draw_circle(ax1, draw_major_labels=False)\n",
    "\n",
    "            ax2.coastlines(zorder=3)\n",
    "            ax2.set_extent(extent, ccrs.PlateCarree())\n",
    "            gl2 = draw_circle(ax2, draw_major_labels=False)\n",
    "\n",
    "            ax3.coastlines(zorder=3)\n",
    "            ax3.set_extent(extent, ccrs.PlateCarree())\n",
    "            gl3 = draw_circle(ax3, draw_major_labels=False)\n",
    "            \n",
    "            ax4.coastlines(zorder=3)\n",
    "            ax4.set_extent(extent, ccrs.PlateCarree())\n",
    "            gl4 = draw_circle(ax4, draw_major_labels=False)\n",
    "\n",
    "            fig.colorbar(cax,ax=ax1,pad=0.1,label=spdf.loc[var]['cnt_cbar_lb'])\n",
    "\n",
    "            fig.colorbar(cax2,ax=[ax2,ax3,ax4],pad=0.1,label=spdf.loc[var]['diff_cbar_lb'],extend='both')\n",
    "\n",
    "            ens_num += 1\n",
    "\n",
    "        axlist = np.array(axlist)\n",
    "\n",
    "        # Formatting figure labels\n",
    "        axlist[0,0].set_title('Control',size=12)\n",
    "        axlist[0,1].set_title('Control-240K optics',size=12)\n",
    "        axlist[0,2].set_title('Control-263K optics',size=12)\n",
    "        axlist[0,3].set_title('Control-273K optics',size=12)\n",
    "        \n",
    "        row_labels = ['Ensemble Member 1','Ensemble Member 2','Ensemble Member 3','Ensemble Member 4',\n",
    "                      'Ensemble Member 5','Ensemble Member 6','Ensemble Member 7','Ensemble Member 8',\n",
    "                      'Ensemble Member 9','Ensemble Member 10']\n",
    "\n",
    "        for ax, row in zip(axlist[:,0],row_labels):\n",
    "            ax.annotate(row,(0,0.5),xytext=(-45,0),ha='right',va='center',\n",
    "                        size=12,rotation=90,xycoords='axes fraction',textcoords='offset points')\n",
    "\n",
    "        #fig.suptitle(spdf.loc[var]['suptitle']+' - '+title_str[j])\n",
    "\n",
    "        fig.savefig(path_to_graphs+var+'.'+ens_type+'.'+graph_type_str+'.'+date_str[j]+'.png',dpi=300)\n",
    "\n",
    "        plt.close(fig)"
   ]
  }
 ],
 "metadata": {
  "kernelspec": {
   "display_name": "Python [conda env:cenv]",
   "language": "python",
   "name": "conda-env-cenv-py"
  },
  "language_info": {
   "codemirror_mode": {
    "name": "ipython",
    "version": 3
   },
   "file_extension": ".py",
   "mimetype": "text/x-python",
   "name": "python",
   "nbconvert_exporter": "python",
   "pygments_lexer": "ipython3",
   "version": "3.12.2"
  }
 },
 "nbformat": 4,
 "nbformat_minor": 4
}
