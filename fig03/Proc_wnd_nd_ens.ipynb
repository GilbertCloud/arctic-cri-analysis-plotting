{
 "cells": [
  {
   "cell_type": "markdown",
   "id": "7898c3d8-314b-4805-a0d0-abb090d44be7",
   "metadata": {},
   "source": [
    "# Processing Wind nudging data"
   ]
  },
  {
   "cell_type": "markdown",
   "id": "3f68c3c0-3181-4314-882c-e02836b90956",
   "metadata": {},
   "source": [
    "### Set up\n",
    "#### Packages"
   ]
  },
  {
   "cell_type": "code",
   "execution_count": 1,
   "id": "d8e905c4-310b-40bf-8cea-2c860076ce2f",
   "metadata": {},
   "outputs": [],
   "source": [
    "import numpy as np\n",
    "import xarray as xr\n",
    "import pandas as pd\n",
    "from scipy import stats\n",
    "import warnings\n",
    "warnings.simplefilter('ignore', UserWarning)\n",
    "warnings.filterwarnings('ignore')\n",
    "import datetime as dt\n",
    "from datetime import timedelta\n",
    "from cartopy.util import add_cyclic_point\n",
    "from Processing_functions import FixLongitude, FixTime, CalcStatforDim, CalcStatbyGrpDim, Ensemble"
   ]
  },
  {
   "cell_type": "markdown",
   "id": "37e853ab-d028-4048-8c23-6a2fee2d3adc",
   "metadata": {},
   "source": [
    "#### Filepaths & name variables"
   ]
  },
  {
   "cell_type": "code",
   "execution_count": 2,
   "id": "d55160ee-91d6-4c88-9fe1-bbdc83d69af0",
   "metadata": {},
   "outputs": [],
   "source": [
    "## Test numbers\n",
    "tst_nums = np.arange(1,11)\n",
    "tst_type = 'nudge_ensemble'\n",
    "\n",
    "## Test names\n",
    "control = 'f.e22.F1850.f09_f09_mg17.control_test_nudge.'\n",
    "rfn240K = 'f.e22.F1850.f09_f09_mg17.cri240K_test_nudge.'\n",
    "rfn263K = 'f.e22.F1850.f09_f09_mg17.cri263K_test_nudge.'\n",
    "rfn273K = 'f.e22.F1850.f09_f09_mg17.cri273K_test_nudge.'\n",
    "\n",
    "## Time averaging type\n",
    "time_avg = 3 # 0: Monthly, 1: Yearly, 2: Seasonal, 3: All data\n",
    "\n",
    "## Ensemble mean or All members\n",
    "ens_type = 'Mean'\n",
    "\n",
    "## Filtering\n",
    "filter = False\n",
    "filter_str = 'filtered' if filter else 'non_filtered'\n",
    "\n",
    "## Filepaths\n",
    "path_to_arch = \"/glade/derecho/scratch/glydia/archive/\"\n",
    "path_to_data = \"/atm/hist/\"\n",
    "filename_ext = \".cam.h1\"\n",
    "path_to_outdata = '/glade/work/glydia/Arctic_CRI_processed_data/processed_wind_nudging_ensemble_data/'\n",
    "\n",
    "## Variables to process\n",
    "var_list = np.array(['FLDS','FLUT','T','TS','CLOUD','TGCLDLWP','LCC','U','V','Target_U','Target_V'])\n",
    "var = var_list[0]"
   ]
  },
  {
   "cell_type": "code",
   "execution_count": 3,
   "id": "357a01ca-fff7-423d-a6c3-383192b88088",
   "metadata": {},
   "outputs": [],
   "source": [
    "## Chunking variables\n",
    "la_chunk = 64\n",
    "lo_chunk = 96\n",
    "le_chunk = 4"
   ]
  },
  {
   "cell_type": "code",
   "execution_count": 4,
   "id": "3d4ae0bc-370a-4731-abe9-929e3a9f070e",
   "metadata": {},
   "outputs": [
    {
     "name": "stdout",
     "output_type": "stream",
     "text": [
      "CPU times: user 3 µs, sys: 1 µs, total: 4 µs\n",
      "Wall time: 8.34 µs\n"
     ]
    }
   ],
   "source": [
    "%%time\n",
    "## Select plot type - yearly or monthly - to make and assign variables accordingly\n",
    "# Monthly\n",
    "if time_avg == 0:\n",
    "    time_str = 'Month'\n",
    "    grp_str = \"time.month\"\n",
    "    tm_chunk = 30\n",
    "    concat_str = 'month'\n",
    "\n",
    "# Seasonal\n",
    "elif time_avg == 2:\n",
    "    time_str = 'Season'\n",
    "    grp_str = \"time.season\"\n",
    "    tm_chunk = 30\n",
    "    concat_str = 'season'\n",
    "\n",
    "\n",
    "\n",
    "# All-data average\n",
    "elif time_avg == 3:\n",
    "    time_str = 'All_data'\n",
    "    tm_chunk = -1\n",
    "    grp_str = ''"
   ]
  },
  {
   "cell_type": "code",
   "execution_count": 5,
   "id": "daa5e523-8bb0-457e-adf9-1d4e624ab98c",
   "metadata": {},
   "outputs": [
    {
     "name": "stdout",
     "output_type": "stream",
     "text": [
      "CPU times: user 117 µs, sys: 0 ns, total: 117 µs\n",
      "Wall time: 119 µs\n"
     ]
    }
   ],
   "source": [
    "%%time\n",
    "\n",
    "## Set up ensemble index\n",
    "ens_index = pd.Index(tst_nums, name=\"ensemble_member\")"
   ]
  },
  {
   "cell_type": "code",
   "execution_count": 6,
   "id": "adb8779c-476b-497a-999e-34535974006f",
   "metadata": {},
   "outputs": [],
   "source": [
    "def LCC(ds):\n",
    "    # Add LCC\n",
    "    ds_lwp = ds['TGCLDLWP']\n",
    "\n",
    "    da = xr.where(ds_lwp >= 0.005, 1, 0)\n",
    "    da = da.rename('LCC')\n",
    "    da.LCC.attrs['units'] = 'frequency'\n",
    "    da.LCC.attrs['long_name'] = 'Liquid-containing cloud frequency'\n",
    "\n",
    "    da.compute()\n",
    "    return da"
   ]
  },
  {
   "cell_type": "code",
   "execution_count": 7,
   "id": "07509d4d-b501-416f-ab6c-2fb1eb1b5606",
   "metadata": {},
   "outputs": [],
   "source": [
    "def LWP(ds):\n",
    "    # Change units on LWP\n",
    "    da = ds['TGCLDLWP']\n",
    "    da *= 1000\n",
    "    da.TGCLDLWP.attrs['units'] = 'g/m2'\n",
    "\n",
    "    da.compute()\n",
    "    return da"
   ]
  },
  {
   "cell_type": "code",
   "execution_count": 8,
   "id": "716c8886-10dd-4218-afa7-36eefdfd3183",
   "metadata": {},
   "outputs": [],
   "source": [
    "def filter_func(ds, da):\n",
    "    ds_ts = ds.TS\n",
    "    ds_lwp = ds.TGCLDLWP\n",
    "\n",
    "    da = da.where(ds_ts <= 273)\n",
    "    da = da.where(ds_lwp <= 0.09)\n",
    "    da = da.where(ds_lwp >= 0.001)\n",
    "    da.compute()\n",
    "    return da"
   ]
  },
  {
   "cell_type": "code",
   "execution_count": 9,
   "id": "6d7f5413-cecf-4f27-ab2d-3e8b80718892",
   "metadata": {},
   "outputs": [],
   "source": [
    "def LoadModEns(optics):\n",
    "    ## Load data\n",
    "    # Load ensemble members\n",
    "    ds_list = []\n",
    "    \n",
    "    for i in tst_nums:\n",
    "        print('ensemble member: '+str(i))\n",
    "        \n",
    "        # Open dataset\n",
    "        tst_name = optics+str(i).zfill(3)\n",
    "        path_i = path_to_arch+tst_name+path_to_data+tst_name+filename_ext+\"*.nc\"\n",
    "        ds = xr.open_mfdataset(paths=path_i,chunks={'time':tm_chunk,'lat':la_chunk,'lon':lo_chunk,'lev':le_chunk})\n",
    "    \n",
    "        if var == 'LCC':\n",
    "            # Add LCC\n",
    "            dsv = LCC(ds)\n",
    "    \n",
    "        elif var == 'TGCLDLWP':\n",
    "            # Change units on LWP\n",
    "            dsv = LWP(ds)\n",
    "    \n",
    "        else:\n",
    "            dsv = ds[var]\n",
    "\n",
    "        dsv.compute()\n",
    "    \n",
    "        if filter:\n",
    "            dsv = filter_func(ds, dsv)\n",
    "            \n",
    "        dsv = dsv.compute()\n",
    "            \n",
    "        dsv = FixLongitude(dsv)\n",
    "    \n",
    "        print('   made changes to ds')\n",
    "\n",
    "        dsv.compute()\n",
    "\n",
    "        ds_list.append(dsv)\n",
    "\n",
    "    dsv = xr.concat(ds_list,ens_index)\n",
    "    dsv.compute()\n",
    "\n",
    "    # If doing ensemble mean\n",
    "    if ens_type == 'Mean':\n",
    "        ds_avg, ds_std, n_ds = CalcStatbyGrpDim(dsv, 'ensemble_member', grp_str, 'ensemble_member', 'time', 'ensemble_member')\n",
    "\n",
    "        return ds_avg, ds_std, n_ds\n",
    "\n",
    "    # If doing all ensemble members\n",
    "    else:\n",
    "        ds_avg, ds_std, n_ds = CalcStatforDim(dsv, grp_str, 'time') \n",
    "\n",
    "    return ds_avg, ds_std, n_ds"
   ]
  },
  {
   "cell_type": "code",
   "execution_count": 10,
   "id": "66ee3cc9-6ace-4aa7-b25c-40d9c7ec677c",
   "metadata": {},
   "outputs": [],
   "source": [
    "def SaveEns(data_avg, data_std, data_n, optics):\n",
    "    # Compute changes to avg\n",
    "    data_avg.compute()\n",
    "    print('computed avg')\n",
    "    \n",
    "    data_avg.to_netcdf(path_to_outdata+optics+var+'.avg.'+ens_type+'.'+time_str+'.'+filter_str+'.nc', format='NETCDF4')\n",
    "    \n",
    "    # Compute changes to avg\n",
    "    data_std.compute()\n",
    "    print('computed std')\n",
    "    \n",
    "    data_std.to_netcdf(path_to_outdata+optics+var+'.std.'+ens_type+'.'+time_str+'.'+filter_str+'.nc', format='NETCDF4')\n",
    "    \n",
    "    # Compute changes to avg\n",
    "    data_n.compute()\n",
    "    print('computed n')\n",
    "    \n",
    "    data_n.to_netcdf(path_to_outdata+optics+var+'.n.'+ens_type+'.'+time_str+'.'+filter_str+'.nc', format='NETCDF4')"
   ]
  },
  {
   "cell_type": "markdown",
   "id": "5fe8665d-7899-4c2c-ade2-6ba4119017e8",
   "metadata": {},
   "source": [
    "### Load & modify data\n",
    "#### Control data"
   ]
  },
  {
   "cell_type": "code",
   "execution_count": 11,
   "id": "9fa2967f-4b79-438f-a07c-c3bbfa6e4a3a",
   "metadata": {},
   "outputs": [
    {
     "name": "stdout",
     "output_type": "stream",
     "text": [
      "ensemble member: 1\n",
      "   made changes to ds\n",
      "ensemble member: 2\n",
      "   made changes to ds\n",
      "ensemble member: 3\n",
      "   made changes to ds\n",
      "ensemble member: 4\n",
      "   made changes to ds\n",
      "ensemble member: 5\n",
      "   made changes to ds\n",
      "ensemble member: 6\n",
      "   made changes to ds\n",
      "ensemble member: 7\n",
      "   made changes to ds\n",
      "ensemble member: 8\n",
      "   made changes to ds\n",
      "ensemble member: 9\n",
      "   made changes to ds\n",
      "ensemble member: 10\n",
      "   made changes to ds\n",
      "processed all ensemble members\n",
      "CPU times: user 9.65 s, sys: 12.5 s, total: 22.1 s\n",
      "Wall time: 1min 26s\n"
     ]
    }
   ],
   "source": [
    "%%time\n",
    "ds_avg_control, ds_std_control, ds_n_control = LoadModEns(control)\n",
    "\n",
    "print('processed all ensemble members')"
   ]
  },
  {
   "cell_type": "code",
   "execution_count": 12,
   "id": "c22d4e0c-4887-4bf4-97fb-978f1117c4d8",
   "metadata": {},
   "outputs": [
    {
     "name": "stdout",
     "output_type": "stream",
     "text": [
      "computed avg\n",
      "computed std\n",
      "computed n\n",
      "CPU times: user 6.06 ms, sys: 6.28 ms, total: 12.3 ms\n",
      "Wall time: 72.2 ms\n"
     ]
    }
   ],
   "source": [
    "%%time\n",
    "\n",
    "SaveEns(ds_avg_control, ds_std_control, ds_n_control, control)"
   ]
  },
  {
   "cell_type": "markdown",
   "id": "dbecdaee-30f0-4392-87a2-223225e901ed",
   "metadata": {},
   "source": [
    "#### CRI240K data"
   ]
  },
  {
   "cell_type": "code",
   "execution_count": 13,
   "id": "c395f7e6-f0f7-4f35-981b-67460d3bb1db",
   "metadata": {},
   "outputs": [
    {
     "name": "stdout",
     "output_type": "stream",
     "text": [
      "ensemble member: 1\n",
      "   made changes to ds\n",
      "ensemble member: 2\n",
      "   made changes to ds\n",
      "ensemble member: 3\n",
      "   made changes to ds\n",
      "ensemble member: 4\n",
      "   made changes to ds\n",
      "ensemble member: 5\n",
      "   made changes to ds\n",
      "ensemble member: 6\n",
      "   made changes to ds\n",
      "ensemble member: 7\n",
      "   made changes to ds\n",
      "ensemble member: 8\n",
      "   made changes to ds\n",
      "ensemble member: 9\n",
      "   made changes to ds\n",
      "ensemble member: 10\n",
      "   made changes to ds\n",
      "processed all ensemble members\n",
      "CPU times: user 8.06 s, sys: 11 s, total: 19.1 s\n",
      "Wall time: 1min 19s\n"
     ]
    }
   ],
   "source": [
    "%%time\n",
    "ds_avg_cri240K, ds_std_cri240K, ds_n_cri240K = LoadModEns(rfn240K)\n",
    "\n",
    "print('processed all ensemble members')"
   ]
  },
  {
   "cell_type": "code",
   "execution_count": 14,
   "id": "9685856d-e92a-452b-af44-de1d13975429",
   "metadata": {},
   "outputs": [
    {
     "name": "stdout",
     "output_type": "stream",
     "text": [
      "computed avg\n",
      "computed std\n",
      "computed n\n",
      "CPU times: user 11.1 ms, sys: 649 µs, total: 11.7 ms\n",
      "Wall time: 69.4 ms\n"
     ]
    }
   ],
   "source": [
    "%%time\n",
    "SaveEns(ds_avg_cri240K, ds_std_cri240K, ds_n_cri240K, rfn240K)"
   ]
  },
  {
   "cell_type": "markdown",
   "id": "5afaadb5-4f10-49b3-9f50-98f16322e402",
   "metadata": {},
   "source": [
    "#### CRI263K data"
   ]
  },
  {
   "cell_type": "code",
   "execution_count": 15,
   "id": "d8f079ec-a8fe-40b7-b0fa-525ff08b8953",
   "metadata": {},
   "outputs": [
    {
     "name": "stdout",
     "output_type": "stream",
     "text": [
      "ensemble member: 1\n",
      "   made changes to ds\n",
      "ensemble member: 2\n",
      "   made changes to ds\n",
      "ensemble member: 3\n",
      "   made changes to ds\n",
      "ensemble member: 4\n",
      "   made changes to ds\n",
      "ensemble member: 5\n",
      "   made changes to ds\n",
      "ensemble member: 6\n",
      "   made changes to ds\n",
      "ensemble member: 7\n",
      "   made changes to ds\n",
      "ensemble member: 8\n",
      "   made changes to ds\n",
      "ensemble member: 9\n",
      "   made changes to ds\n",
      "ensemble member: 10\n",
      "   made changes to ds\n",
      "processed all ensemble members\n",
      "CPU times: user 8.32 s, sys: 10.8 s, total: 19.2 s\n",
      "Wall time: 1min 18s\n"
     ]
    }
   ],
   "source": [
    "%%time\n",
    "ds_avg_cri263K, ds_std_cri263K, ds_n_cri263K = LoadModEns(rfn263K)\n",
    "\n",
    "print('processed all ensemble members')"
   ]
  },
  {
   "cell_type": "code",
   "execution_count": 16,
   "id": "1d304c34-63e6-47fe-b7f5-6d65f4babde2",
   "metadata": {},
   "outputs": [
    {
     "name": "stdout",
     "output_type": "stream",
     "text": [
      "computed avg\n",
      "computed std\n",
      "computed n\n",
      "CPU times: user 7.25 ms, sys: 3.07 ms, total: 10.3 ms\n",
      "Wall time: 30.9 ms\n"
     ]
    }
   ],
   "source": [
    "%%time\n",
    "\n",
    "SaveEns(ds_avg_cri263K, ds_std_cri263K, ds_n_cri263K, rfn263K)"
   ]
  },
  {
   "cell_type": "markdown",
   "id": "ca8730ff-96b8-4488-a5a4-530f698f5a9e",
   "metadata": {},
   "source": [
    "#### CRI273K data"
   ]
  },
  {
   "cell_type": "code",
   "execution_count": 17,
   "id": "db8385b5-c1f3-425e-9252-82aab9c94de1",
   "metadata": {},
   "outputs": [
    {
     "name": "stdout",
     "output_type": "stream",
     "text": [
      "ensemble member: 1\n",
      "   made changes to ds\n",
      "ensemble member: 2\n",
      "   made changes to ds\n",
      "ensemble member: 3\n",
      "   made changes to ds\n",
      "ensemble member: 4\n",
      "   made changes to ds\n",
      "ensemble member: 5\n",
      "   made changes to ds\n",
      "ensemble member: 6\n",
      "   made changes to ds\n",
      "ensemble member: 7\n",
      "   made changes to ds\n",
      "ensemble member: 8\n",
      "   made changes to ds\n",
      "ensemble member: 9\n",
      "   made changes to ds\n",
      "ensemble member: 10\n",
      "   made changes to ds\n",
      "processed all ensemble members\n",
      "CPU times: user 8.12 s, sys: 10.9 s, total: 19 s\n",
      "Wall time: 1min 18s\n"
     ]
    }
   ],
   "source": [
    "%%time\n",
    "ds_avg_cri273K, ds_std_cri273K, ds_n_cri273K = LoadModEns(rfn273K)\n",
    "\n",
    "print('processed all ensemble members')"
   ]
  },
  {
   "cell_type": "code",
   "execution_count": 18,
   "id": "c75f5b0e-d880-419d-a5cd-2d5d11bb89d5",
   "metadata": {},
   "outputs": [
    {
     "name": "stdout",
     "output_type": "stream",
     "text": [
      "computed avg\n",
      "computed std\n",
      "computed n\n",
      "CPU times: user 10.5 ms, sys: 0 ns, total: 10.5 ms\n",
      "Wall time: 65.5 ms\n"
     ]
    }
   ],
   "source": [
    "%%time\n",
    "\n",
    "SaveEns(ds_avg_cri273K, ds_std_cri273K, ds_n_cri273K, rfn273K)"
   ]
  },
  {
   "cell_type": "code",
   "execution_count": null,
   "id": "797245b8-8e1f-4b5c-8c9c-1f715aee6ed1",
   "metadata": {},
   "outputs": [],
   "source": []
  }
 ],
 "metadata": {
  "kernelspec": {
   "display_name": "Python [conda env:cenv]",
   "language": "python",
   "name": "conda-env-cenv-py"
  },
  "language_info": {
   "codemirror_mode": {
    "name": "ipython",
    "version": 3
   },
   "file_extension": ".py",
   "mimetype": "text/x-python",
   "name": "python",
   "nbconvert_exporter": "python",
   "pygments_lexer": "ipython3",
   "version": "3.12.2"
  }
 },
 "nbformat": 4,
 "nbformat_minor": 5
}
