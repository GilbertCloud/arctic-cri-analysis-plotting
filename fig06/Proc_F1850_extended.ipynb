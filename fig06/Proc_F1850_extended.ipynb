{
 "cells": [
  {
   "cell_type": "markdown",
   "id": "8834f2d3-868e-425f-96ad-b2deec3319eb",
   "metadata": {},
   "source": [
    "# Processing data from 40-year F1850 run"
   ]
  },
  {
   "cell_type": "markdown",
   "id": "c3e3c232-2ebc-4437-9fbe-6c5314fc705b",
   "metadata": {},
   "source": [
    "### Set up\n",
    "#### Packages"
   ]
  },
  {
   "cell_type": "code",
   "execution_count": 1,
   "id": "041f99d8-51b0-4d7e-9a27-6c5e1e20980b",
   "metadata": {},
   "outputs": [],
   "source": [
    "import numpy as np\n",
    "import xarray as xr\n",
    "import pandas as pd\n",
    "from scipy import stats\n",
    "import warnings\n",
    "warnings.simplefilter('ignore', UserWarning)\n",
    "warnings.filterwarnings('ignore')\n",
    "import datetime as dt\n",
    "from datetime import timedelta\n",
    "from cartopy.util import add_cyclic_point\n",
    "from Processing_functions import FixLongitude, FixTime, CalcStatforDim, CalcStatbyGrpDim"
   ]
  },
  {
   "cell_type": "markdown",
   "id": "4c7991e3-bf25-430b-9a3d-fa8e8d60f535",
   "metadata": {},
   "source": [
    "#### Filepaths & variables"
   ]
  },
  {
   "cell_type": "code",
   "execution_count": 28,
   "id": "b0e436be-6176-42c2-83c3-f8bc8fcea07b",
   "metadata": {},
   "outputs": [],
   "source": [
    "## Test numbers\n",
    "tst_type = 'extended'\n",
    "\n",
    "## Test names\n",
    "control = 'f.e22.F1850.f09_f09_mg17.control_test.'\n",
    "rfn240K = 'f.e22.F1850.f09_f09_mg17.cri240K_test.'\n",
    "rfn263K = 'f.e22.F1850.f09_f09_mg17.cri263K_test.'\n",
    "rfn273K = 'f.e22.F1850.f09_f09_mg17.cri273K_test.'\n",
    "\n",
    "## Time averaging type\n",
    "time_avg = 3 # 0: Monthly, 1: Yearly, 2: Seasonal, 3: All data\n",
    "\n",
    "## Filtering\n",
    "filter = False\n",
    "filter_str = 'filtered' if filter else 'non_filtered'\n",
    "\n",
    "## Filepaths\n",
    "path_to_arch = \"/glade/derecho/scratch/glydia/archive/\"\n",
    "path_to_camp = \"/glade/campaign/univ/ucub0137/archive/\"\n",
    "path_to_data = \"/atm/hist/\"\n",
    "filename_ext = \".cam.h0.\"\n",
    "path_to_outdata = '/glade/work/glydia/Arctic_CRI_processed_data/processed_free_evolving_data/'\n",
    "\n",
    "## Variables to process\n",
    "var_list = np.array(['FLDS','T','TS','CLOUD','LCC','TGCLDLWP','FLUT'])\n",
    "var = var_list[-1]"
   ]
  },
  {
   "cell_type": "code",
   "execution_count": 3,
   "id": "6988a133-004f-4ec6-9225-6d389f0873dd",
   "metadata": {},
   "outputs": [],
   "source": [
    "## Chunking variables\n",
    "la_chunk = 64\n",
    "lo_chunk = 96\n",
    "le_chunk = 4"
   ]
  },
  {
   "cell_type": "code",
   "execution_count": 4,
   "id": "802ace61-0b91-4891-9e05-f80e899ad42e",
   "metadata": {},
   "outputs": [
    {
     "name": "stdout",
     "output_type": "stream",
     "text": [
      "CPU times: user 3 µs, sys: 0 ns, total: 3 µs\n",
      "Wall time: 5.96 µs\n"
     ]
    }
   ],
   "source": [
    "%%time\n",
    "## Select plot type - yearly or monthly - to make and assign variables accordingly\n",
    "# Monthly\n",
    "if time_avg == 0:\n",
    "    time_str = 'Month'\n",
    "    grp_str = \"time.month\"\n",
    "    tm_chunk = 1\n",
    "    concat_str = 'month'\n",
    "    \n",
    "# Yearly\n",
    "elif time_avg == 1:\n",
    "    time_str = 'Year'\n",
    "    grp_str = \"time.year\"\n",
    "    tm_chunk = 12\n",
    "    concat_str = 'year'\n",
    "\n",
    "# Seasonal\n",
    "elif time_avg == 2:\n",
    "    time_str = 'Season'\n",
    "    grp_str = \"time.season\"\n",
    "    tm_chunk = 3\n",
    "    concat_str = 'season'\n",
    "\n",
    "# All-data average\n",
    "elif time_avg == 3:\n",
    "    time_str = 'All_data'\n",
    "    tm_chunk = -1\n",
    "    grp_str = ''\n",
    "    \n",
    "    \n",
    "# All-data timeseries\n",
    "elif time_avg == 4:\n",
    "    time_str = 'Timeseries'\n",
    "    tm_chunk = 1"
   ]
  },
  {
   "cell_type": "code",
   "execution_count": 5,
   "id": "58443326-6f74-434c-874c-d3866c81ac8e",
   "metadata": {},
   "outputs": [],
   "source": [
    "def LCC(ds):\n",
    "    # Add LCC\n",
    "    ds_lwp = ds['TGCLDLWP']\n",
    "\n",
    "    da = xr.where(ds_lwp >= 0.005, 1, 0)\n",
    "    da = da.rename('LCC')\n",
    "    da.LCC.attrs['units'] = 'frequency'\n",
    "    da.LCC.attrs['long_name'] = 'Liquid-containing cloud frequency'\n",
    "\n",
    "    da.compute()\n",
    "    return da"
   ]
  },
  {
   "cell_type": "code",
   "execution_count": 6,
   "id": "bc413c55-8c8a-4cde-bbca-a8f75e24bbc4",
   "metadata": {},
   "outputs": [],
   "source": [
    "def LWP(ds):\n",
    "    # Change units on LWP\n",
    "    da = ds['TGCLDLWP']\n",
    "    da *= 1000\n",
    "    da.TGCLDLWP.attrs['units'] = 'g/m2'\n",
    "\n",
    "    da.compute()\n",
    "    return da"
   ]
  },
  {
   "cell_type": "code",
   "execution_count": 7,
   "id": "22095e4f-f795-4c5b-ba21-22cd5c042125",
   "metadata": {},
   "outputs": [],
   "source": [
    "def filter_func(ds, da):\n",
    "    ds_ts = ds.TS\n",
    "    ds_lwp = ds.TGCLDLWP\n",
    "\n",
    "    da = da.where(ds_ts <= 273)\n",
    "    da = da.where(ds_lwp <= 0.09)\n",
    "    da = da.where(ds_lwp >= 0.001)\n",
    "    da.compute()\n",
    "    return da"
   ]
  },
  {
   "cell_type": "code",
   "execution_count": 24,
   "id": "a8f80d80-5cff-47ed-a8c3-0157e5c30c9d",
   "metadata": {},
   "outputs": [],
   "source": [
    "def LoadMod(optics, cri263):\n",
    "    ## Load data\n",
    "    # Load both cases\n",
    "    ds_list = []\n",
    "\n",
    "    if cri263:\n",
    "        tst_nums = np.arange(2,3)\n",
    "        path_to_dir = path_to_arch\n",
    "    else:\n",
    "        tst_nums = np.arange(2,4)\n",
    "        path_to_dir = path_to_camp\n",
    "    \n",
    "    for i in tst_nums:\n",
    "        print('case: '+str(i))\n",
    "        \n",
    "        # Open dataset\n",
    "        tst_name = optics+str(i).zfill(3)\n",
    "        path_i = path_to_dir+tst_name+path_to_data+tst_name+filename_ext+\"*.nc\"\n",
    "        print(path_i)\n",
    "        ds = xr.open_mfdataset(paths=path_i,chunks={'time':tm_chunk,'lat':la_chunk,'lon':lo_chunk,'lev':le_chunk})\n",
    "    \n",
    "        if var == 'LCC':\n",
    "            # Add LCC\n",
    "            dsv = LCC(ds)\n",
    "    \n",
    "        elif var == 'TGCLDLWP':\n",
    "            # Change units on LWP\n",
    "            dsv = LWP(ds)\n",
    "    \n",
    "        else:\n",
    "            dsv = ds[var]\n",
    "\n",
    "        dsv.compute()\n",
    "    \n",
    "        if filter:\n",
    "            dsv = filter_func(ds, dsv)\n",
    "            \n",
    "        dsv = dsv.compute()\n",
    "            \n",
    "        dsv = FixLongitude(dsv, True)\n",
    "\n",
    "        dsv = FixTime(dsv)\n",
    "\n",
    "        # Offset extended runs by 20 years\n",
    "        if i == 3:\n",
    "            dsv = dsv.assign_coords(dict(time=(dsv.time+timedelta(days=20*365))))\n",
    "            dsv.compute()\n",
    "    \n",
    "        print('   made changes to ds')\n",
    "\n",
    "        ds_list.append(dsv)\n",
    "\n",
    "    dsv = xr.concat(ds_list, dim='time')\n",
    "    dsv.compute()\n",
    "\n",
    "    print('   combined cases')\n",
    "        \n",
    "    # If needing to group data\n",
    "    if time_avg < 2:\n",
    "        ds_avg, ds_std, n_ds = CalcStatforDim(dsv, grp_str, 'time')\n",
    "\n",
    "        return ds_avg, ds_std, n_ds\n",
    "\n",
    "    # If doing timeseries\n",
    "    elif time_avg == 4:\n",
    "        ds_avg = dsv\n",
    "        ds_avg.compute()\n",
    "\n",
    "        return ds_avg\n",
    "\n",
    "    # If doing all-data average or seasonal\n",
    "    else:\n",
    "        ds_avg, ds_std, n_ds = CalcStatbyGrpDim(dsv, 'time.year', grp_str, 'year', 'time', 'year')\n",
    "\n",
    "        return ds_avg, ds_std, n_ds"
   ]
  },
  {
   "cell_type": "code",
   "execution_count": 9,
   "id": "e0362332-937f-4341-b82d-cf6a54d8e6dc",
   "metadata": {},
   "outputs": [],
   "source": [
    "def Save(data_avg, data_std, data_n, optics):\n",
    "    # Compute changes to avg\n",
    "    data_avg.compute()\n",
    "    print('computed avg')\n",
    "    \n",
    "    data_avg.to_netcdf(path_to_outdata+optics+var+'.avg.'+time_str+'.'+filter_str+'.nc', format='NETCDF4')\n",
    "    \n",
    "    # If not doing timeseries\n",
    "    if time_avg < 4:\n",
    "        # Compute changes to avg\n",
    "        data_std.compute()\n",
    "        print('computed std')\n",
    "        \n",
    "        data_std.to_netcdf(path_to_outdata+optics+var+'.std.'+time_str+'.'+filter_str+'.nc', format='NETCDF4')\n",
    "        \n",
    "        # Compute changes to avg\n",
    "        data_n.compute()\n",
    "        print('computed n')\n",
    "        \n",
    "        data_n.to_netcdf(path_to_outdata+optics+var+'.n.'+time_str+'.'+filter_str+'.nc', format='NETCDF4')"
   ]
  },
  {
   "cell_type": "markdown",
   "id": "8acad8b5-62ed-4e9d-8e45-dec32ca7681a",
   "metadata": {},
   "source": [
    "### Load & modify data\n",
    "#### Control data"
   ]
  },
  {
   "cell_type": "code",
   "execution_count": 29,
   "id": "a4b3a417-0655-481f-b2a5-6e5a45dfca1f",
   "metadata": {},
   "outputs": [
    {
     "name": "stdout",
     "output_type": "stream",
     "text": [
      "case: 2\n",
      "/glade/campaign/univ/ucub0137/archive/f.e22.F1850.f09_f09_mg17.control_test.002/atm/hist/f.e22.F1850.f09_f09_mg17.control_test.002.cam.h0.*.nc\n",
      "   made changes to ds\n",
      "case: 3\n",
      "/glade/campaign/univ/ucub0137/archive/f.e22.F1850.f09_f09_mg17.control_test.003/atm/hist/f.e22.F1850.f09_f09_mg17.control_test.003.cam.h0.*.nc\n",
      "   made changes to ds\n",
      "   combined cases\n",
      "processed all data\n",
      "CPU times: user 33.9 s, sys: 1min 20s, total: 1min 54s\n",
      "Wall time: 5min 29s\n"
     ]
    }
   ],
   "source": [
    "%%time\n",
    "ds_avg_control, ds_std_control, ds_n_control = LoadMod(control, False)\n",
    "\n",
    "print('processed all data')"
   ]
  },
  {
   "cell_type": "code",
   "execution_count": 30,
   "id": "0d519313-1f92-4861-8940-8d07b562c2ed",
   "metadata": {},
   "outputs": [
    {
     "name": "stdout",
     "output_type": "stream",
     "text": [
      "computed avg\n",
      "computed std\n",
      "computed n\n",
      "CPU times: user 11.4 ms, sys: 0 ns, total: 11.4 ms\n",
      "Wall time: 21.7 ms\n"
     ]
    }
   ],
   "source": [
    "%%time\n",
    "\n",
    "Save(ds_avg_control, ds_std_control, ds_n_control, control)"
   ]
  },
  {
   "cell_type": "markdown",
   "id": "82b62848-0bfb-48b4-8bba-5bbc4751006c",
   "metadata": {},
   "source": [
    "#### CRI240K data"
   ]
  },
  {
   "cell_type": "code",
   "execution_count": 31,
   "id": "76f1f2d7-206c-4cb2-ab26-fd7762538743",
   "metadata": {},
   "outputs": [
    {
     "name": "stdout",
     "output_type": "stream",
     "text": [
      "case: 2\n",
      "/glade/campaign/univ/ucub0137/archive/f.e22.F1850.f09_f09_mg17.cri240K_test.002/atm/hist/f.e22.F1850.f09_f09_mg17.cri240K_test.002.cam.h0.*.nc\n",
      "   made changes to ds\n",
      "case: 3\n",
      "/glade/campaign/univ/ucub0137/archive/f.e22.F1850.f09_f09_mg17.cri240K_test.003/atm/hist/f.e22.F1850.f09_f09_mg17.cri240K_test.003.cam.h0.*.nc\n",
      "   made changes to ds\n",
      "   combined cases\n",
      "processed all data\n",
      "CPU times: user 33.3 s, sys: 1min 20s, total: 1min 53s\n",
      "Wall time: 5min 24s\n"
     ]
    }
   ],
   "source": [
    "%%time\n",
    "ds_avg_cri240K, ds_std_cri240K, ds_n_cri240K = LoadMod(rfn240K, False)\n",
    "\n",
    "print('processed all data')"
   ]
  },
  {
   "cell_type": "code",
   "execution_count": 32,
   "id": "d1abbcf1-e6bf-46aa-a61d-e63193f9b714",
   "metadata": {},
   "outputs": [
    {
     "name": "stdout",
     "output_type": "stream",
     "text": [
      "computed avg\n",
      "computed std\n",
      "computed n\n",
      "CPU times: user 4.96 ms, sys: 6.14 ms, total: 11.1 ms\n",
      "Wall time: 23.4 ms\n"
     ]
    }
   ],
   "source": [
    "%%time\n",
    "\n",
    "Save(ds_avg_cri240K, ds_std_cri240K, ds_n_cri240K, rfn240K)"
   ]
  },
  {
   "cell_type": "markdown",
   "id": "3d3d5db2-ca3f-4812-925e-d23dabee4d09",
   "metadata": {},
   "source": [
    "#### CRI263K data"
   ]
  },
  {
   "cell_type": "code",
   "execution_count": 33,
   "id": "da767366-f3f5-47ce-8e2d-3030cd0fd730",
   "metadata": {},
   "outputs": [
    {
     "name": "stdout",
     "output_type": "stream",
     "text": [
      "case: 2\n",
      "/glade/derecho/scratch/glydia/archive/f.e22.F1850.f09_f09_mg17.cri263K_test.002/atm/hist/f.e22.F1850.f09_f09_mg17.cri263K_test.002.cam.h0.*.nc\n",
      "   made changes to ds\n",
      "   combined cases\n",
      "processed all data\n",
      "CPU times: user 33.2 s, sys: 12.5 s, total: 45.6 s\n",
      "Wall time: 1min 55s\n"
     ]
    }
   ],
   "source": [
    "%%time\n",
    "ds_avg_cri263K, ds_std_cri263K, ds_n_cri263K = LoadMod(rfn263K, True)\n",
    "\n",
    "print('processed all data')"
   ]
  },
  {
   "cell_type": "code",
   "execution_count": 34,
   "id": "176f84c8-53f6-4e65-984f-3d650d172bea",
   "metadata": {},
   "outputs": [
    {
     "name": "stdout",
     "output_type": "stream",
     "text": [
      "computed avg\n",
      "computed std\n",
      "computed n\n",
      "CPU times: user 13.4 ms, sys: 369 µs, total: 13.8 ms\n",
      "Wall time: 211 ms\n"
     ]
    }
   ],
   "source": [
    "%%time\n",
    "\n",
    "Save(ds_avg_cri263K, ds_std_cri263K, ds_n_cri263K, rfn263K)"
   ]
  },
  {
   "cell_type": "markdown",
   "id": "f686c70f-05a7-4147-9e88-896df17439c9",
   "metadata": {},
   "source": [
    "#### CRI273K data"
   ]
  },
  {
   "cell_type": "code",
   "execution_count": 35,
   "id": "55fcf19b-4981-4403-b890-88fa47257aad",
   "metadata": {
    "scrolled": true
   },
   "outputs": [
    {
     "name": "stdout",
     "output_type": "stream",
     "text": [
      "case: 2\n",
      "/glade/campaign/univ/ucub0137/archive/f.e22.F1850.f09_f09_mg17.cri273K_test.002/atm/hist/f.e22.F1850.f09_f09_mg17.cri273K_test.002.cam.h0.*.nc\n",
      "   made changes to ds\n",
      "case: 3\n",
      "/glade/campaign/univ/ucub0137/archive/f.e22.F1850.f09_f09_mg17.cri273K_test.003/atm/hist/f.e22.F1850.f09_f09_mg17.cri273K_test.003.cam.h0.*.nc\n",
      "   made changes to ds\n",
      "   combined cases\n",
      "processed all data\n",
      "CPU times: user 32.9 s, sys: 1min 18s, total: 1min 51s\n",
      "Wall time: 5min 12s\n"
     ]
    }
   ],
   "source": [
    "%%time\n",
    "ds_avg_cri273K, ds_std_cri273K, ds_n_cri273K = LoadMod(rfn273K, False)\n",
    "\n",
    "print('processed all data')"
   ]
  },
  {
   "cell_type": "code",
   "execution_count": 36,
   "id": "3dcbef5c-ce56-4280-a624-791f09f60688",
   "metadata": {},
   "outputs": [
    {
     "name": "stdout",
     "output_type": "stream",
     "text": [
      "computed avg\n",
      "computed std\n",
      "computed n\n",
      "CPU times: user 4.16 ms, sys: 6.65 ms, total: 10.8 ms\n",
      "Wall time: 22.3 ms\n"
     ]
    }
   ],
   "source": [
    "%%time\n",
    "\n",
    "Save(ds_avg_cri273K, ds_std_cri273K, ds_n_cri273K, rfn273K)"
   ]
  },
  {
   "cell_type": "code",
   "execution_count": null,
   "id": "6f30e600-488f-42e5-a539-42885fb35e7a",
   "metadata": {},
   "outputs": [],
   "source": []
  }
 ],
 "metadata": {
  "kernelspec": {
   "display_name": "Python [conda env:cenv]",
   "language": "python",
   "name": "conda-env-cenv-py"
  },
  "language_info": {
   "codemirror_mode": {
    "name": "ipython",
    "version": 3
   },
   "file_extension": ".py",
   "mimetype": "text/x-python",
   "name": "python",
   "nbconvert_exporter": "python",
   "pygments_lexer": "ipython3",
   "version": "3.12.2"
  }
 },
 "nbformat": 4,
 "nbformat_minor": 5
}
