{
 "cells": [
  {
   "cell_type": "markdown",
   "metadata": {},
   "source": [
    "# Plotting script for e22.F1850.f09_f09_mg17 Control and CRI 263 K CESM 39 year Ensemble nudging runs\n",
    "### Set up\n",
    "#### Packages"
   ]
  },
  {
   "cell_type": "code",
   "execution_count": 1,
   "metadata": {},
   "outputs": [],
   "source": [
    "import numpy as np\n",
    "import xarray as xr\n",
    "import matplotlib.pyplot as plt\n",
    "from matplotlib.ticker import ScalarFormatter\n",
    "import pandas as pd\n",
    "from scipy import stats\n",
    "import matplotlib as mpl\n",
    "from matplotlib import font_manager\n",
    "from mpl_toolkits.axes_grid1.inset_locator import inset_axes\n",
    "from matplotlib.mathtext import _mathtext as mathtext\n",
    "import matplotlib.ticker as mticker\n",
    "from matplotlib import gridspec\n",
    "import matplotlib.path as mpath\n",
    "import matplotlib.colors as colors\n",
    "import matplotlib.dates as mdates\n",
    "import cartopy\n",
    "import cartopy.crs as ccrs\n",
    "import cartopy.feature as cfeature\n",
    "from cartopy.mpl.gridliner import LONGITUDE_FORMATTER, LATITUDE_FORMATTER\n",
    "import warnings\n",
    "warnings.simplefilter('ignore', UserWarning)\n",
    "warnings.filterwarnings('ignore')\n",
    "import datetime as dt\n",
    "from datetime import timedelta\n",
    "from cmcrameri import cm\n",
    "import jinja2\n",
    "from Plotting_functions import wvl2wvn, wvn2wvl, p2z, z2p, t_test_two_means, Wilks_pcrit, CustomCmap, draw_circle, CalcStatSig"
   ]
  },
  {
   "cell_type": "code",
   "execution_count": 2,
   "metadata": {},
   "outputs": [],
   "source": [
    "font_path = '/glade/work/glydia/conda-envs/cenv/fonts/Helvetica.ttc'  # Your font path goes here\n",
    "font_manager.fontManager.addfont(font_path)\n",
    "prop = font_manager.FontProperties(fname=font_path)\n",
    "\n",
    "mpl.rcParams['font.family'] = 'sans-serif'\n",
    "mpl.rcParams['font.sans-serif'] = 'Helvetica'"
   ]
  },
  {
   "cell_type": "markdown",
   "metadata": {},
   "source": [
    "#### Filepaths, name variables"
   ]
  },
  {
   "cell_type": "code",
   "execution_count": null,
   "metadata": {},
   "outputs": [],
   "source": [
    "## Test numbers\n",
    "tst_nums = np.arange(1,4)\n",
    "tst_type = 'nudge_ensemble'\n",
    "\n",
    "## Test names\n",
    "control = 'f.e22.F1850.f09_f09_mg17.control_test_nudge_long.'\n",
    "cri263K = 'f.e22.F1850.f09_f09_mg17.cri263K_test_nudge_long.'\n",
    "\n",
    "## Significance type\n",
    "sig = 'Wilks'\n",
    "\n",
    "## Time averaging type\n",
    "time_avg = 3    # 0: Monthly, 1: Yearly, 2: Seasonal, 3: All data\n",
    "\n",
    "## Ensemble mean or All members\n",
    "ens_type = 'Mean'\n",
    "\n",
    "## Filtering\n",
    "filter = False\n",
    "filter_str = 'filtered' if filter else 'non_filtered'\n",
    "\n",
    "## Filepaths\n",
    "path_to_data = '/glade/work/glydia/Arctic_CRI_processed_data/processed_wind_nudging_ensemble_data/'\n",
    "path_to_graphs = '/glade/u/home/glydia/wind_nudging_40yr_ensemble_graphs/'+filter_str+'/'\n",
    "\n",
    "## Variables to process\n",
    "var_list = np.array(['FLDS','T','TS','U','V','Target_U','Target_V','OPTS_MAT'])\n",
    "var = var_list[0]\n",
    "\n",
    "## Plot types to make\n",
    "map_type = True"
   ]
  },
  {
   "cell_type": "code",
   "execution_count": 4,
   "metadata": {},
   "outputs": [],
   "source": [
    "## Chunking variables\n",
    "la_chunk = 64\n",
    "lo_chunk = 96\n",
    "le_chunk = 4"
   ]
  },
  {
   "cell_type": "code",
   "execution_count": 5,
   "metadata": {},
   "outputs": [
    {
     "name": "stdout",
     "output_type": "stream",
     "text": [
      "CPU times: user 3 µs, sys: 1e+03 ns, total: 4 µs\n",
      "Wall time: 6.2 µs\n"
     ]
    }
   ],
   "source": [
    "%%time\n",
    "\n",
    "## Select plot type - yearly or monthly - to make and assign variables accordingly\n",
    "# Seasonal\n",
    "if time_avg == 2:\n",
    "    time_str = 'Season'\n",
    "\n",
    "# All-data average\n",
    "elif time_avg == 3:\n",
    "    time_str = 'All_data'\n",
    "    \n",
    "elif time_avg == 0:\n",
    "    time_str = 'Month'\n",
    "    \n",
    "elif time_avg == 4:\n",
    "    time_str = 'Timeseries'\n",
    "    \n",
    "elif time_avg == 1:\n",
    "    time_str = 'Year'"
   ]
  },
  {
   "cell_type": "markdown",
   "metadata": {},
   "source": [
    "#### Load data"
   ]
  },
  {
   "cell_type": "code",
   "execution_count": 6,
   "metadata": {},
   "outputs": [
    {
     "name": "stdout",
     "output_type": "stream",
     "text": [
      "CPU times: user 1.19 s, sys: 191 ms, total: 1.38 s\n",
      "Wall time: 12.8 s\n"
     ]
    }
   ],
   "source": [
    "%%time\n",
    "\n",
    "## Load data\n",
    "# Load control ensemble members\n",
    "control_data_avg = xr.open_dataset(path_to_data+control+var+'.avg.'+ens_type+'.'+time_str+'.'+filter_str+'.nc', \n",
    "                                   chunks={'lat':la_chunk,'lon':lo_chunk,'lev':le_chunk})\n",
    "if time_avg < 4:\n",
    "    control_data_std = xr.open_dataset(path_to_data+control+var+'.std.'+ens_type+'.'+time_str+'.'+filter_str+'.nc', \n",
    "                                       chunks={'lat':la_chunk,'lon':lo_chunk,'lev':le_chunk})\n",
    "    n_control = xr.open_dataset(path_to_data+control+var+'.n.'+ens_type+'.'+time_str+'.'+filter_str+'.nc', \n",
    "                                chunks={'lat':la_chunk,'lon':lo_chunk,'lev':le_chunk})"
   ]
  },
  {
   "cell_type": "code",
   "execution_count": 7,
   "metadata": {},
   "outputs": [
    {
     "name": "stdout",
     "output_type": "stream",
     "text": [
      "CPU times: user 8.1 ms, sys: 4.05 ms, total: 12.1 ms\n",
      "Wall time: 68.4 ms\n"
     ]
    }
   ],
   "source": [
    "%%time\n",
    "\n",
    "# Load cri263K ensemble members\n",
    "cri263K_data_avg = xr.open_dataset(path_to_data+cri263K+var+'.avg.'+ens_type+'.'+time_str+'.'+filter_str+'.nc', \n",
    "                                   chunks={'lat':la_chunk,'lon':lo_chunk,'lev':le_chunk})\n",
    "\n",
    "if time_avg < 4:\n",
    "    cri263K_data_std = xr.open_dataset(path_to_data+cri263K+var+'.std.'+ens_type+'.'+time_str+'.'+filter_str+'.nc', \n",
    "                                       chunks={'lat':la_chunk,'lon':lo_chunk,'lev':le_chunk})\n",
    "    n_cri263K = xr.open_dataset(path_to_data+cri263K+var+'.n.'+ens_type+'.'+time_str+'.'+filter_str+'.nc', \n",
    "                                chunks={'lat':la_chunk,'lon':lo_chunk,'lev':le_chunk})"
   ]
  },
  {
   "cell_type": "markdown",
   "metadata": {},
   "source": [
    "#### Define custom colobars"
   ]
  },
  {
   "cell_type": "code",
   "execution_count": 8,
   "metadata": {},
   "outputs": [],
   "source": [
    "# Difference colorbars\n",
    "tppr_levels = np.linspace(-3,3,21)\n",
    "tppr_levels[10] = -0.000000001\n",
    "flux_levels = np.linspace(-10,10,21)\n",
    "lwp_levels = np.linspace(-75,75,21)\n",
    "iwp_levels = flux_levels\n",
    "lcc_levels = np.linspace(-.5,.5,21)\n",
    "wcf_levels = flux_levels\n",
    "wnd_levels = flux_levels\n",
    "\n",
    "vik_cmap = cm.vik\n",
    "\n",
    "# Create cmap and norms\n",
    "diff_cmap, tppr_norm = CustomCmap(tppr_levels,vik_cmap,[],False)\n",
    "_, flux_norm = CustomCmap(flux_levels,vik_cmap,[],False)\n",
    "_, lwp_norm = CustomCmap(lwp_levels,vik_cmap,[],False)\n",
    "_, iwp_norm = CustomCmap(iwp_levels,vik_cmap,[],False)\n",
    "_, lcc_norm = CustomCmap(lcc_levels,vik_cmap,[],False)\n",
    "_, wcf_norm = CustomCmap(wcf_levels,vik_cmap,[],False)\n",
    "_, wnd_norm = CustomCmap(wnd_levels,vik_cmap,[],False)"
   ]
  },
  {
   "cell_type": "markdown",
   "metadata": {},
   "source": [
    "### Distribution plots"
   ]
  },
  {
   "cell_type": "markdown",
   "metadata": {},
   "source": [
    "### Spatial plots\n",
    "#### Set up"
   ]
  },
  {
   "cell_type": "code",
   "execution_count": null,
   "metadata": {},
   "outputs": [],
   "source": [
    "if map_type:    \n",
    "    graph_type_str = 'Map'# Linear or Map or Zonal\n",
    "    plot_type = time_avg # 0: Monthly, 2: Seasonal, 3: All years\n",
    "    num_yrs = 39\n",
    "\n",
    "    ## Select plot type - yearly or monthly - to make and assign variables accordingly\n",
    "    # Seasonal\n",
    "    if plot_type == 2:\n",
    "        avg_list = np.arange(4)\n",
    "        date_str = np.array(['DJF','JJA','MAM','SON'])\n",
    "        title_str = date_str \n",
    "\n",
    "    # All-data average\n",
    "    elif plot_type == 3:\n",
    "        avg_list = np.arange(1)\n",
    "        date_str = np.array(['all_yrs'])\n",
    "        title_str = np.array(['Ensemble mean for '+str(num_yrs)+' year average'])\n",
    "        \n",
    "    # Monthly\n",
    "    elif plot_type == 0:\n",
    "        avg_list = np.arange(12)\n",
    "        date_str = np.array(['Jan','Feb','Mar','Apr','May','Jun','Jul','Aug','Sep','Oct','Nov','Dec'])\n",
    "    \n",
    "    # Yearly\n",
    "    elif plot_type == 1:\n",
    "        avg_list = np.arange(39)\n",
    "        date_str = np.array([str(i+1979) for i in np.arange(1,40,1)])\n",
    "        \n"
   ]
  },
  {
   "cell_type": "markdown",
   "metadata": {},
   "source": [
    "#### Define graphing variables"
   ]
  },
  {
   "cell_type": "code",
   "execution_count": null,
   "metadata": {},
   "outputs": [],
   "source": [
    "if map_type:     \n",
    "    # Graphing variables if graphing type is the ensemble mean\n",
    "    if ens_type == 'Mean':\n",
    "        sbpt_shp = (1,2)\n",
    "        figsz = (13,6)\n",
    "        proj = ccrs.NorthPolarStereo()\n",
    "        extent = [-180, 180, 50, 90]\n",
    "\n",
    "    # Graphing variables if graphing type is \n",
    "    elif ens_type == 'All_members':\n",
    "        sbpt_shp = (3,2)\n",
    "        figsz = (11,12)\n",
    "        proj = ccrs.NorthPolarStereo()\n",
    "        extent = [-180, 180, 50, 90]"
   ]
  },
  {
   "cell_type": "markdown",
   "metadata": {},
   "source": [
    "#### Calculate statistical signficance based on Wilks test"
   ]
  },
  {
   "cell_type": "code",
   "execution_count": 11,
   "metadata": {},
   "outputs": [
    {
     "name": "stdout",
     "output_type": "stream",
     "text": [
      "CPU times: user 208 ms, sys: 28.7 ms, total: 237 ms\n",
      "Wall time: 362 ms\n"
     ]
    }
   ],
   "source": [
    "%%time\n",
    "if map_type: \n",
    "    ## Calculate p-vals for t-test & Wilks field significance for all variables in varplot\n",
    "    cri263K_data_avg = CalcStatSig(control_data_avg, control_data_std, n_control, cri263K_data_avg, cri263K_data_std, n_cri263K, var, sig, ens_type, time_avg)"
   ]
  },
  {
   "cell_type": "code",
   "execution_count": 12,
   "metadata": {},
   "outputs": [
    {
     "name": "stdout",
     "output_type": "stream",
     "text": [
      "CPU times: user 7.19 ms, sys: 2.54 ms, total: 9.73 ms\n",
      "Wall time: 9.75 ms\n"
     ]
    }
   ],
   "source": [
    "%%time\n",
    "\n",
    "# load computations into dataset\n",
    "if map_type: \n",
    "    control_data_avg.compute()\n",
    "    cri263K_data_avg.compute()"
   ]
  },
  {
   "cell_type": "code",
   "execution_count": null,
   "metadata": {},
   "outputs": [],
   "source": [
    "if map_type:     \n",
    "    # Plotting pandas Dataframe for spatial plots\n",
    "    spdf = pd.DataFrame(data={'cmap':[cm.navia,plt.cm.jet,plt.cm.Blues,plt.cm.Blues,cm.lajolla_r,cm.lajolla_r,cm.lajolla_r,cm.lajolla_r,cm.roma_r,cm.roma_r,cm.navia,cm.navia],\n",
    "                               'norm': [lcc_norm,tppr_norm,lwp_norm,iwp_norm,flux_norm,flux_norm,flux_norm,flux_norm,wcf_norm,wcf_norm,tppr_norm,tppr_norm],\n",
    "                               'cnt_cbar_lb': ['LCC frequency','Surface temperature (K)','LWP (g/m$^{2}$)','IWP (g/m$^{2}$)','Downwelling longwave flux\\nat the surface (W m$^{-2}$)',\n",
    "                                               'F$_{\\downarrow}$ (SW, surface) (W/m$^{2}$)',r'F$_{\\uparrow}$ (LW, TOA) (W/m$^{2}$)',r'F$_{\\uparrow}$ (SW, TOA) (W/m$^{2}$)',\n",
    "                                               'LWCF (W/m$^{2}$)','SWCF (W/m$^{2}$)','Large-scale precipitation rate (mm/day)','Large-scale snow rate (mm/day)'],\n",
    "                               'diff_cbar_lb': ['LCC frequency difference','Temperature difference (K)','LWP difference (g/m$^{2}$)','IWP difference (g/m$^{2}$)','Flux difference (W m$^{-2}$)',\n",
    "                                                'Flux difference (W/m$^{2}$)','Flux difference (W/m$^{2}$)','Flux difference (W/m$^{2}$)','LWCF difference (W/m$^{2}$)','SWCF difference (W/m$^{2}$)',\n",
    "                                                'Precipitation rate difference (mm/day)','Snow rate difference (mm/day)'],\n",
    "                               'suptitle': ['Liquid-containing cloud frequency [LCC]','Surface temperature [TS]','Liquid water path [TGCLDLWP]','Ice water path [TGCLDIWP]',\n",
    "                                            'Downwelling longwave flux at the surface [FLDS]','Downwelling shortwave flux at the surface [FSDS]','Upwelling longwave flux at the TOA [FLUT]',\n",
    "                                            'Upwelling shortwave flux at the TOA [FSUTOA]','Longwave cloud forcing [LWCF]','Shortwave cloud forcing [SWCF]',\n",
    "                                            'Large-scale precipitation rate [PRECL]','Large-scale snow rate [PRECSL]']},\n",
    "                        index=['LCC','TS','TGCLDLWP','TGCLDIWP','FLDS','FSDS','FLUT','FSUTOA','LWCF','SWCF','PRECL','PRECSL'])\n"
   ]
  },
  {
   "cell_type": "code",
   "execution_count": 14,
   "metadata": {},
   "outputs": [
    {
     "name": "stdout",
     "output_type": "stream",
     "text": [
      "all_yrs\n",
      "max control-cri263K diff: 2.3888855\n",
      "min control-cri263K diff: -1.051178\n"
     ]
    }
   ],
   "source": [
    "if ens_type == 'Mean' and map_type:\n",
    "    ## Loop through all months/years\n",
    "    for j in avg_list:\n",
    "        if plot_type == 2:\n",
    "            index = dict(season=j)\n",
    "        elif plot_type >= 3:\n",
    "            index = dict()\n",
    "\n",
    "        print(date_str[j])\n",
    "        cri263K_diff = cri263K_data_avg[var][index]-control_data_avg[var][index]\n",
    "\n",
    "        print('max control-cri263K diff: '+str(cri263K_diff.loc[dict(lat=slice(50,90))].max().values))\n",
    "        print('min control-cri263K diff: '+str(cri263K_diff.loc[dict(lat=slice(50,90))].min().values))"
   ]
  },
  {
   "cell_type": "code",
   "execution_count": 15,
   "metadata": {},
   "outputs": [],
   "source": [
    "if ens_type == 'Mean' and map_type:\n",
    "    slice_i = dict(lat=slice(60,90))\n",
    "    avg_dim = ('lat','lon')\n",
    "    weights = np.cos(np.deg2rad(cri263K_diff.lat.loc[slice_i]))\n",
    "    weights.compute()\n",
    "    \n",
    "    # Weight ensemble member data\n",
    "    cri263K_diff_w = cri263K_diff.loc[slice_i].weighted(weights)\n",
    "    \n",
    "    # Calculate weighted mean\n",
    "    cri263K_diff_avg_w = cri263K_diff_w.mean(avg_dim,skipna=True)"
   ]
  },
  {
   "cell_type": "markdown",
   "metadata": {},
   "source": [
    "#### Make plots\n",
    "##### Ensemble mean"
   ]
  },
  {
   "cell_type": "code",
   "execution_count": 16,
   "metadata": {},
   "outputs": [
    {
     "name": "stdout",
     "output_type": "stream",
     "text": [
      "CPU times: user 4.98 s, sys: 28.9 ms, total: 5.01 s\n",
      "Wall time: 5.51 s\n"
     ]
    }
   ],
   "source": [
    "%%time\n",
    "\n",
    "if ens_type == 'Mean' and map_type:\n",
    "    ## Loop through all months/years\n",
    "    for j in avg_list:\n",
    "        if plot_type == 2:\n",
    "            index = dict(season=j)\n",
    "        elif plot_type >= 3:\n",
    "            index = dict()\n",
    "        elif plot_type == 0:\n",
    "            index = dict(month=j)\n",
    "        elif plot_type == 1:\n",
    "            index = dict(year=j)\n",
    "\n",
    "\n",
    "        # Set up\n",
    "        fig, axlist = plt.subplots(sbpt_shp[0],sbpt_shp[1],layout='constrained',subplot_kw=dict(projection=proj))\n",
    "        fig.set_size_inches(6.9,3.4)\n",
    "\n",
    "        if sig == 'Wilks':\n",
    "            if plot_type >= 3:\n",
    "                pcriti_cri263K = cri263K_data_avg['pcrit_'+var][index].values[0][0]\n",
    "            else: \n",
    "                pcriti_cri263K = cri263K_data_avg['pcrit_'+var][index].values[0]\n",
    "\n",
    "        # Plot data\n",
    "        cax = control_data_avg[var][index].plot.contourf(\n",
    "            ax=axlist[0],cmap=spdf.loc[var]['cmap'],levels=20,\n",
    "            add_colorbar=False,transform=ccrs.PlateCarree(),zorder=1)\n",
    "        cax2 = (cri263K_data_avg[var][index]-control_data_avg[var][index]).plot.contourf(\n",
    "            ax=axlist[1],add_colorbar=False,cmap=diff_cmap,\n",
    "            norm=spdf.loc[var]['norm'],transform=ccrs.PlateCarree(),zorder=1)\n",
    "\n",
    "\n",
    "        cri263K_data_avg['pvals_'+var][index].plot.contourf(\n",
    "            ax=axlist[1],levels=[-0.01,pcriti_cri263K,1],hatches=['...',None],colors='none',\n",
    "            add_colorbar=False,transform=ccrs.PlateCarree(),zorder=2)\n",
    "\n",
    "        # Formatting\n",
    "        axlist[0].coastlines(zorder=3)\n",
    "        axlist[0].set_extent(extent, ccrs.PlateCarree())\n",
    "        draw_circle(axlist[0], draw_major=False, draw_major_labels=False)\n",
    "        axlist[0].set_title('(a) Control optics\\n', fontsize=14)\n",
    "        # gl0.xlabel_style = {'size':11}\n",
    "        # gl0.ylabel_style = {'size':11}\n",
    "\n",
    "        cb1 = fig.colorbar(cax,ax=axlist[0],pad=0.1,shrink=0.75,fraction=0.1)\n",
    "        cb1.set_label(label=spdf.loc[var]['cnt_cbar_lb'], fontsize=12)\n",
    "        cb1.ax.tick_params(labelsize=12)\n",
    "\n",
    "        axlist[1].coastlines(zorder=3)\n",
    "        axlist[1].set_extent(extent, ccrs.PlateCarree())\n",
    "        draw_circle(axlist[1], draw_major=False, draw_major_labels=False)\n",
    "        axlist[1].set_title('(b) 263 K-Control optics\\n({:.2f}'.format(cri263K_diff_avg_w.values)+' W m$^{-2}$)', fontsize=14)\n",
    "        # gl1.xlabel_style = {'size':11}\n",
    "        # gl1.ylabel_style = {'size':11}\n",
    "\n",
    "        cb2 = fig.colorbar(cax2,ax=axlist[1],pad=0.1,extend='both',shrink=0.75,fraction=0.1)\n",
    "        cb2.set_label(label=spdf.loc[var]['diff_cbar_lb'], fontsize=12)\n",
    "        cb2.ax.tick_params(labelsize=12)\n",
    "\n",
    "        #fig.suptitle(spdf.loc[var]['suptitle']+' - '+title_str[j])\n",
    "\n",
    "        fig.savefig(path_to_graphs+var+'.'+ens_type+'.'+graph_type_str+'.'+date_str[j]+'.pdf',dpi=300,bbox_inches='tight')\n",
    "\n",
    "        plt.close(fig)\n",
    "        axlist[0].clear()\n",
    "        axlist[1].clear()"
   ]
  },
  {
   "cell_type": "markdown",
   "metadata": {},
   "source": [
    "##### All Ensemble members"
   ]
  },
  {
   "cell_type": "code",
   "execution_count": 17,
   "metadata": {},
   "outputs": [
    {
     "name": "stdout",
     "output_type": "stream",
     "text": [
      "CPU times: user 4 µs, sys: 1 µs, total: 5 µs\n",
      "Wall time: 5.25 µs\n"
     ]
    }
   ],
   "source": [
    "%%time\n",
    "\n",
    "if ens_type == 'All_members'and map_type:\n",
    "    ## Loop through all months/years\n",
    "    for j in avg_list:\n",
    "        if plot_type == 2:\n",
    "            index = dict(season=j)\n",
    "        elif plot_type >= 3:\n",
    "            index = dict()\n",
    "        elif plot_type == 0:\n",
    "            index = dict(month=j)\n",
    "        elif plot_type == 1:\n",
    "            index = dict(year=j)\n",
    "\n",
    "\n",
    "        # Setup figure\n",
    "        fig = plt.figure()\n",
    "        fig.set_size_inches(figsz[0],figsz[1])\n",
    "\n",
    "        axlist = []\n",
    "        ens_num = 0\n",
    "        for k in np.arange(1,7,2):\n",
    "            # Set up axes\n",
    "            ax1 = fig.add_subplot(sbpt_shp[0],sbpt_shp[1],k,projection=proj)\n",
    "            ax2 = fig.add_subplot(sbpt_shp[0],sbpt_shp[1],k+1,projection=proj)\n",
    "            axlist.append([ax1,ax2])\n",
    "\n",
    "            # Modify index\n",
    "            index['ensemble_member'] = ens_num\n",
    "\n",
    "            if sig == 'Wilks':\n",
    "                if np.logical_and(plot_type == 3,ens_type == 'All_members'):\n",
    "                    pcriti_cri263K = cri263K_data_avg['pcrit_'+var][index].values[0]\n",
    "                else:\n",
    "                    pcriti_cri263K = cri263K_data_avg['pcrit_'+var][index].values\n",
    "\n",
    "            # Plot data\n",
    "            cax = control_data_avg[var][index].plot(\n",
    "                    ax=ax1,cmap=spdf.loc[var]['cmap'],add_labels=False,\n",
    "                    add_colorbar=False,transform=ccrs.PlateCarree(),zorder=1)\n",
    "            cax2 = (control_data_avg[var][index]-cri263K_data_avg[var][index]).plot.contourf(\n",
    "                ax=ax2,add_colorbar=False,cmap=diff_cmap,add_labels=False,\n",
    "                norm=spdf.loc[var]['norm'],transform=ccrs.PlateCarree(),zorder=1)\n",
    "\n",
    "            cri263K_data_avg['pvals_'+var][index].plot.contourf(\n",
    "                ax=ax2,levels=[-0.01,pcriti_cri263K,1],hatches=['\\\\\\\\',None],colors='none',\n",
    "                add_colorbar=False,transform=ccrs.PlateCarree(),add_labels=False,zorder=2)\n",
    "\n",
    "            # Formatting\n",
    "            ax1.coastlines(zorder=3)\n",
    "            ax1.set_extent(extent, ccrs.PlateCarree())\n",
    "            gl1 = draw_circle(ax1, draw_major_labels=False)\n",
    "\n",
    "            ax2.coastlines(zorder=3)\n",
    "            ax2.set_extent(extent, ccrs.PlateCarree())\n",
    "            gl2 = draw_circle(ax2, draw_major_labels=False)\n",
    "\n",
    "            fig.colorbar(cax,ax=ax1,pad=0.1,label=spdf.loc[var]['cnt_cbar_lb'])\n",
    "\n",
    "            fig.colorbar(cax2,ax=ax2,pad=0.1,label=spdf.loc[var]['diff_cbar_lb'],extend='both')\n",
    "\n",
    "            ens_num += 1\n",
    "\n",
    "        axlist = np.array(axlist)\n",
    "\n",
    "        # Formatting figure labels\n",
    "        axlist[0,0].set_title('Control',size=12)\n",
    "        axlist[0,1].set_title('Control-263K optics',size=12)\n",
    "        \n",
    "        row_labels = ['Ensemble Member 1','Ensemble Member 2','Ensemble Member 3']\n",
    "\n",
    "        for ax, row in zip(axlist[:,0],row_labels):\n",
    "            ax.annotate(row,(0,0.5),xytext=(-45,0),ha='right',va='center',\n",
    "                        size=12,rotation=90,xycoords='axes fraction',textcoords='offset points')\n",
    "\n",
    "        #fig.suptitle(spdf.loc[var]['suptitle']+' - '+title_str[j])\n",
    "\n",
    "        fig.savefig(path_to_graphs+var+'.'+ens_type+'.'+graph_type_str+'.'+date_str[j]+'.png',dpi=300)\n",
    "\n",
    "        plt.close(fig)"
   ]
  }
 ],
 "metadata": {
  "kernelspec": {
   "display_name": "Python [conda env:cenv]",
   "language": "python",
   "name": "conda-env-cenv-py"
  },
  "language_info": {
   "codemirror_mode": {
    "name": "ipython",
    "version": 3
   },
   "file_extension": ".py",
   "mimetype": "text/x-python",
   "name": "python",
   "nbconvert_exporter": "python",
   "pygments_lexer": "ipython3",
   "version": "3.12.2"
  }
 },
 "nbformat": 4,
 "nbformat_minor": 4
}
