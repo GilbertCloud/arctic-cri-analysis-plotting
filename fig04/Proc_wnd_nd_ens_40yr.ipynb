{
 "cells": [
  {
   "cell_type": "markdown",
   "id": "7898c3d8-314b-4805-a0d0-abb090d44be7",
   "metadata": {},
   "source": [
    "# Processing Wind nudging data"
   ]
  },
  {
   "cell_type": "markdown",
   "id": "3f68c3c0-3181-4314-882c-e02836b90956",
   "metadata": {},
   "source": [
    "### Set up\n",
    "#### Packages"
   ]
  },
  {
   "cell_type": "code",
   "execution_count": 1,
   "id": "d8e905c4-310b-40bf-8cea-2c860076ce2f",
   "metadata": {},
   "outputs": [],
   "source": [
    "import numpy as np\n",
    "import xarray as xr\n",
    "import pandas as pd\n",
    "from scipy import stats\n",
    "import warnings\n",
    "warnings.simplefilter('ignore', UserWarning)\n",
    "warnings.filterwarnings('ignore')\n",
    "import datetime as dt\n",
    "from datetime import timedelta\n",
    "from cartopy.util import add_cyclic_point\n",
    "from Processing_functions import FixLongitude, FixTime, CalcStatforDim, CalcStatbyGrpDim, Ensemble"
   ]
  },
  {
   "cell_type": "markdown",
   "id": "37e853ab-d028-4048-8c23-6a2fee2d3adc",
   "metadata": {},
   "source": [
    "#### Filepaths & name variables"
   ]
  },
  {
   "cell_type": "code",
   "execution_count": 2,
   "id": "d55160ee-91d6-4c88-9fe1-bbdc83d69af0",
   "metadata": {},
   "outputs": [],
   "source": [
    "## Test numbers\n",
    "tst_nums = np.arange(1,4)\n",
    "tst_type = 'nudge_ensemble'\n",
    "\n",
    "## Test names\n",
    "control = 'f.e22.F1850.f09_f09_mg17.control_test_nudge_long.'\n",
    "rfn263K = 'f.e22.F1850.f09_f09_mg17.cri263K_test_nudge_long.'\n",
    "\n",
    "## Time averaging type\n",
    "time_avg = 3 # 0: Monthly, 1: Yearly, 2: Seasonal, 3: All data\n",
    "\n",
    "## Ensemble mean or All members\n",
    "ens_type = 'Mean'\n",
    "\n",
    "## Filtering\n",
    "filter = False\n",
    "filter_str = 'filtered' if filter else 'non_filtered'\n",
    "\n",
    "## Filepaths\n",
    "path_to_arch = \"/glade/derecho/scratch/glydia/archive/\"\n",
    "path_to_data = \"/atm/hist/\"\n",
    "filename_ext = \".cam.h0\"\n",
    "path_to_outdata = '/glade/work/glydia/Arctic_CRI_processed_data/processed_wind_nudging_ensemble_data/'\n",
    "\n",
    "## Variables to process\n",
    "var_list = np.array(['FLDS','T','TS','CLOUD','OPTS_MAT','U','V','Target_U','Target_V','Target_T'])\n",
    "var = var_list[0]"
   ]
  },
  {
   "cell_type": "code",
   "execution_count": 3,
   "id": "357a01ca-fff7-423d-a6c3-383192b88088",
   "metadata": {},
   "outputs": [],
   "source": [
    "## Chunking variables\n",
    "la_chunk = 64\n",
    "lo_chunk = 96\n",
    "le_chunk = 4"
   ]
  },
  {
   "cell_type": "code",
   "execution_count": 4,
   "id": "3d4ae0bc-370a-4731-abe9-929e3a9f070e",
   "metadata": {},
   "outputs": [
    {
     "name": "stdout",
     "output_type": "stream",
     "text": [
      "CPU times: user 4 µs, sys: 0 ns, total: 4 µs\n",
      "Wall time: 8.82 µs\n"
     ]
    }
   ],
   "source": [
    "%%time\n",
    "## Select plot type - yearly or monthly - to make and assign variables accordingly\n",
    "# Monthly\n",
    "if time_avg == 0:\n",
    "    time_str = 'Month'\n",
    "    grp_str = \"time.month\"\n",
    "    tm_chunk = 1\n",
    "    concat_str = 'month'\n",
    "    \n",
    "# Yearly\n",
    "elif time_avg == 1:\n",
    "    time_str = 'Year'\n",
    "    grp_str = \"time.year\"\n",
    "    tm_chunk = 12\n",
    "    concat_str = 'year'\n",
    "\n",
    "# Seasonal\n",
    "elif time_avg == 2:\n",
    "    time_str = 'Season'\n",
    "    grp_str = \"time.season\"\n",
    "    tm_chunk = 3\n",
    "    concat_str = 'season'\n",
    "\n",
    "# All-data average\n",
    "elif time_avg == 3:\n",
    "    time_str = 'All_data'\n",
    "    grp_str = ''\n",
    "    tm_chunk = -1\n",
    "    \n",
    "# All-data timeseries\n",
    "elif time_avg == 4:\n",
    "    time_str = 'Timeseries'\n",
    "    tm_chunk = 1"
   ]
  },
  {
   "cell_type": "code",
   "execution_count": 5,
   "id": "cb126e87",
   "metadata": {},
   "outputs": [
    {
     "name": "stdout",
     "output_type": "stream",
     "text": [
      "CPU times: user 165 µs, sys: 0 ns, total: 165 µs\n",
      "Wall time: 167 µs\n"
     ]
    }
   ],
   "source": [
    "%%time\n",
    "\n",
    "## Set up ensemble index\n",
    "ens_index = pd.Index(tst_nums, name=\"ensemble_member\")"
   ]
  },
  {
   "cell_type": "code",
   "execution_count": 6,
   "id": "293583cc",
   "metadata": {},
   "outputs": [],
   "source": [
    "def filter_func(ds, da):\n",
    "    # Filter using OPTS_MAT\n",
    "    ds_om = ds.OPTS_MAT\n",
    "    da = da.where(ds_om >= 0.5)\n",
    "    da.compute()\n",
    "    return da"
   ]
  },
  {
   "cell_type": "code",
   "execution_count": 7,
   "id": "191a5384",
   "metadata": {},
   "outputs": [],
   "source": [
    "def PS(da):\n",
    "    # Change units on PS\n",
    "    da /= 100\n",
    "    da.attrs['units'] = 'hPa'\n",
    "    da.compute()\n",
    "    return da"
   ]
  },
  {
   "cell_type": "code",
   "execution_count": 8,
   "id": "9ad1f65e",
   "metadata": {},
   "outputs": [],
   "source": [
    "def LoadModEns(optics):\n",
    "    ## Load data\n",
    "    # Load ensemble members\n",
    "    ds_list = []\n",
    "    \n",
    "    for i in tst_nums:\n",
    "        print('ensemble member: '+str(i))\n",
    "        \n",
    "        # Open dataset\n",
    "        tst_name = optics+str(i).zfill(3)\n",
    "        path_i = path_to_arch+tst_name+path_to_data+tst_name+filename_ext+\"*.nc\"\n",
    "        ds = xr.open_mfdataset(paths=path_i,chunks={'time':tm_chunk,'lat':la_chunk,'lon':lo_chunk,'lev':le_chunk})\n",
    "    \n",
    "        dsv = ds[var]\n",
    "\n",
    "        dsv.compute()\n",
    "    \n",
    "        if filter:\n",
    "            dsv = filter_func(ds, dsv)\n",
    "\n",
    "        if var == 'PS':\n",
    "            dsv = PS(dsv)\n",
    "            \n",
    "        dsv = dsv.compute()\n",
    "            \n",
    "        dsv = FixLongitude(dsv)\n",
    "        \n",
    "        dsv = FixTime(dsv)\n",
    "    \n",
    "        print('   made changes to ds')\n",
    "\n",
    "        ds_list.append(dsv)\n",
    "\n",
    "    dsv = xr.concat(ds_list, ens_index)\n",
    "    dsv.compute()\n",
    "\n",
    "    # Note to self: like need three layers of grouping for this one - might need to write new function\n",
    "    \n",
    "    # If doing ensemble mean\n",
    "    if ens_type == 'Mean':\n",
    "        # If doing timeseries\n",
    "        if time_avg == 4:\n",
    "            ds_avg, ds_std, n_ds = CalcStatforDim(dsv, '', 'ensemble_member')\n",
    "\n",
    "        elif time_avg < 2:\n",
    "            ds_avg, ds_std, n_ds = CalcStatbyGrpDim(dsv, 'ensemble_member', grp_str, 'ensemble_member','time','ensemble_member')\n",
    "            \n",
    "        else:\n",
    "            ds_avg, ds_std, n_ds = CalcStatbyGrpDim(dsv, 'time.year', grp_str, 'year','time',['year','ensemble_member'])\n",
    "\n",
    "        return ds_avg, ds_std, n_ds\n",
    "\n",
    "    # If doing all ensemble members\n",
    "    else:\n",
    "        # If doing timeseries\n",
    "        if time_avg == 4:\n",
    "            ds_avg = dsv\n",
    "            ds_avg.compute()\n",
    "            return ds_avg\n",
    "\n",
    "        elif time_avg < 2:\n",
    "            ds_avg, ds_std, n_ds = CalcStatforDim(dsv, grp_str, 'time')\n",
    "\n",
    "        else:\n",
    "            ds_avg, ds_std, n_ds = CalcStatbyGrpDim(dsv, 'time.year', grp_str, 'year', 'time','year')\n",
    "\n",
    "        return ds_avg, ds_std, n_ds"
   ]
  },
  {
   "cell_type": "code",
   "execution_count": 9,
   "id": "32b62650",
   "metadata": {},
   "outputs": [],
   "source": [
    "def SaveEns(optics, data_avg, data_std=None, data_n=None):\n",
    "    # Compute changes to avg\n",
    "    data_avg.compute()\n",
    "    print('computed avg')\n",
    "    \n",
    "    data_avg.to_netcdf(path_to_outdata+optics+var+'.avg.'+ens_type+'.'+time_str+'.'+filter_str+'.nc', format='NETCDF4')\n",
    "    \n",
    "    # If not doing timeseries\n",
    "    if time_avg < 4:\n",
    "        # Compute changes to avg\n",
    "        data_std.compute()\n",
    "        print('computed std')\n",
    "        \n",
    "        data_std.to_netcdf(path_to_outdata+optics+var+'.std.'+ens_type+'.'+time_str+'.'+filter_str+'.nc', format='NETCDF4')\n",
    "        \n",
    "        # Compute changes to avg\n",
    "        data_n.compute()\n",
    "        print('computed n')\n",
    "        \n",
    "        data_n.to_netcdf(path_to_outdata+optics+var+'.n.'+ens_type+'.'+time_str+'.'+filter_str+'.nc', format='NETCDF4')"
   ]
  },
  {
   "cell_type": "markdown",
   "id": "5fe8665d-7899-4c2c-ade2-6ba4119017e8",
   "metadata": {},
   "source": [
    "### Load & modify data\n",
    "#### Control data"
   ]
  },
  {
   "cell_type": "code",
   "execution_count": 10,
   "id": "9fa2967f-4b79-438f-a07c-c3bbfa6e4a3a",
   "metadata": {},
   "outputs": [
    {
     "name": "stdout",
     "output_type": "stream",
     "text": [
      "ensemble member: 1\n",
      "   made changes to ds\n",
      "ensemble member: 2\n",
      "   made changes to ds\n",
      "ensemble member: 3\n",
      "   made changes to ds\n",
      "processed all ensemble members\n",
      "CPU times: user 1min 29s, sys: 26.5 s, total: 1min 55s\n",
      "Wall time: 4min 55s\n"
     ]
    }
   ],
   "source": [
    "%%time\n",
    "if time_avg == 4:\n",
    "    ds_avg_control_list = LoadModEns(control)\n",
    "else:\n",
    "    ds_avg_control_list, ds_std_control_list, ds_n_control_list = LoadModEns(control)\n",
    "\n",
    "print('processed all ensemble members')"
   ]
  },
  {
   "cell_type": "code",
   "execution_count": 11,
   "id": "c22d4e0c-4887-4bf4-97fb-978f1117c4d8",
   "metadata": {},
   "outputs": [
    {
     "name": "stdout",
     "output_type": "stream",
     "text": [
      "computed avg\n",
      "computed std\n",
      "computed n\n",
      "CPU times: user 11.2 ms, sys: 2.11 ms, total: 13.3 ms\n",
      "Wall time: 88 ms\n"
     ]
    }
   ],
   "source": [
    "%%time\n",
    "if time_avg == 4:\n",
    "     SaveEns(control, ds_avg_control_list)\n",
    "else:\n",
    "    SaveEns(control, ds_avg_control_list, ds_std_control_list, ds_n_control_list)"
   ]
  },
  {
   "cell_type": "markdown",
   "id": "5afaadb5-4f10-49b3-9f50-98f16322e402",
   "metadata": {},
   "source": [
    "#### CRI263K data"
   ]
  },
  {
   "cell_type": "code",
   "execution_count": 12,
   "id": "d8f079ec-a8fe-40b7-b0fa-525ff08b8953",
   "metadata": {},
   "outputs": [
    {
     "name": "stdout",
     "output_type": "stream",
     "text": [
      "ensemble member: 1\n",
      "   made changes to ds\n",
      "ensemble member: 2\n",
      "   made changes to ds\n",
      "ensemble member: 3\n",
      "   made changes to ds\n",
      "processed all ensemble members\n",
      "CPU times: user 1min 29s, sys: 23.4 s, total: 1min 52s\n",
      "Wall time: 4min 31s\n"
     ]
    }
   ],
   "source": [
    "%%time\n",
    "if time_avg == 4:\n",
    "    ds_avg_cri263K_list = LoadModEns(rfn263K)\n",
    "else:\n",
    "    ds_avg_cri263K_list, ds_std_cri263K_list, ds_n_cri263K_list = LoadModEns(rfn263K)\n",
    "\n",
    "print('processed all ensemble members')"
   ]
  },
  {
   "cell_type": "code",
   "execution_count": 13,
   "id": "1d304c34-63e6-47fe-b7f5-6d65f4babde2",
   "metadata": {},
   "outputs": [
    {
     "name": "stdout",
     "output_type": "stream",
     "text": [
      "computed avg\n",
      "computed std\n",
      "computed n\n",
      "CPU times: user 11.9 ms, sys: 0 ns, total: 11.9 ms\n",
      "Wall time: 56.3 ms\n"
     ]
    }
   ],
   "source": [
    "%%time\n",
    "if time_avg == 4:\n",
    "    SaveEns(rfn263K,ds_avg_cri263K_list)\n",
    "else:\n",
    "    SaveEns(rfn263K,ds_avg_cri263K_list, ds_std_cri263K_list, ds_n_cri263K_list)"
   ]
  },
  {
   "cell_type": "code",
   "execution_count": null,
   "id": "056c303e-5857-441a-9b23-bc799c6ced28",
   "metadata": {},
   "outputs": [],
   "source": []
  }
 ],
 "metadata": {
  "kernelspec": {
   "display_name": "Python [conda env:cenv]",
   "language": "python",
   "name": "conda-env-cenv-py"
  },
  "language_info": {
   "codemirror_mode": {
    "name": "ipython",
    "version": 3
   },
   "file_extension": ".py",
   "mimetype": "text/x-python",
   "name": "python",
   "nbconvert_exporter": "python",
   "pygments_lexer": "ipython3",
   "version": "3.12.2"
  }
 },
 "nbformat": 4,
 "nbformat_minor": 5
}
